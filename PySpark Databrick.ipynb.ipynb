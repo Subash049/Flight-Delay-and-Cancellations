{
 "cells": [
  {
   "cell_type": "markdown",
   "metadata": {
    "application/vnd.databricks.v1+cell": {
     "cellMetadata": {},
     "inputWidgets": {},
     "nuid": "2dcd0f3e-3663-431d-a795-10f82260402a",
     "showTitle": false,
     "tableResultSettingsMap": {},
     "title": ""
    }
   },
   "source": [
    "                Name : Subash Pradhan\n",
    "                Student Id: C0916422\n",
    "                PySpark Assignment in Databricks"
   ]
  },
  {
   "cell_type": "markdown",
   "metadata": {
    "application/vnd.databricks.v1+cell": {
     "cellMetadata": {},
     "inputWidgets": {},
     "nuid": "dc98722e-4513-422b-9928-49d729a2ec6b",
     "showTitle": false,
     "tableResultSettingsMap": {},
     "title": ""
    }
   },
   "source": [
    "                  Step 1: Data Loading and Initial Exploration"
   ]
  },
  {
   "cell_type": "code",
   "execution_count": 0,
   "metadata": {
    "application/vnd.databricks.v1+cell": {
     "cellMetadata": {
      "byteLimit": 2048000,
      "rowLimit": 10000
     },
     "inputWidgets": {},
     "nuid": "042e5277-3c11-4ae4-9dd2-45a722bce1d1",
     "showTitle": false,
     "tableResultSettingsMap": {},
     "title": ""
    }
   },
   "outputs": [],
   "source": [
    "# Import Spark Session\n",
    "from pyspark.sql import SparkSession"
   ]
  },
  {
   "cell_type": "code",
   "execution_count": 0,
   "metadata": {
    "application/vnd.databricks.v1+cell": {
     "cellMetadata": {
      "byteLimit": 2048000,
      "rowLimit": 10000
     },
     "inputWidgets": {},
     "nuid": "1e64768d-b39f-459b-b421-97c1ccdc6819",
     "showTitle": false,
     "tableResultSettingsMap": {},
     "title": ""
    }
   },
   "outputs": [],
   "source": [
    "# Importing Necessary libraries\n",
    "from pyspark.sql.functions import col, when, concat, lit, to_date, dayofweek, count,month,year\n",
    "from pyspark.sql.functions import regexp_replace\n",
    "from pyspark.sql import functions as F\n",
    "from pyspark.ml.feature import Imputer\n",
    "# Plot using Matplotlib\n",
    "import matplotlib.pyplot as plt"
   ]
  },
  {
   "cell_type": "code",
   "execution_count": 0,
   "metadata": {
    "application/vnd.databricks.v1+cell": {
     "cellMetadata": {
      "byteLimit": 2048000,
      "rowLimit": 10000
     },
     "inputWidgets": {},
     "nuid": "6b239b9a-eb13-41bd-9735-4d95ed9a6d2e",
     "showTitle": false,
     "tableResultSettingsMap": {},
     "title": ""
    }
   },
   "outputs": [],
   "source": [
    "# Initialize Spark session\n",
    "spark = SparkSession.builder.appName(\"FlightDelays&Cancellation\").getOrCreate()"
   ]
  },
  {
   "cell_type": "markdown",
   "metadata": {
    "application/vnd.databricks.v1+cell": {
     "cellMetadata": {},
     "inputWidgets": {},
     "nuid": "29fa1123-118f-4188-9e6b-3eeaad563ebb",
     "showTitle": false,
     "tableResultSettingsMap": {},
     "title": ""
    }
   },
   "source": [
    "  1.1 Load Data"
   ]
  },
  {
   "cell_type": "code",
   "execution_count": 0,
   "metadata": {
    "application/vnd.databricks.v1+cell": {
     "cellMetadata": {
      "byteLimit": 2048000,
      "rowLimit": 10000
     },
     "inputWidgets": {},
     "nuid": "6322254a-22f0-4406-887f-17e7c6666891",
     "showTitle": false,
     "tableResultSettingsMap": {},
     "title": ""
    }
   },
   "outputs": [],
   "source": [
    "# Load the dataset from the uploaded location\n",
    "file_path = \"dbfs:/FileStore/flights.csv\"\n",
    "df = spark.read.csv(file_path, header=True, inferSchema=True)"
   ]
  },
  {
   "cell_type": "markdown",
   "metadata": {
    "application/vnd.databricks.v1+cell": {
     "cellMetadata": {},
     "inputWidgets": {},
     "nuid": "a9430ad3-8a53-478c-a092-b4f0f5ad6a22",
     "showTitle": false,
     "tableResultSettingsMap": {},
     "title": ""
    }
   },
   "source": [
    "  1.2 Initial Exploration"
   ]
  },
  {
   "cell_type": "code",
   "execution_count": 0,
   "metadata": {
    "application/vnd.databricks.v1+cell": {
     "cellMetadata": {
      "byteLimit": 2048000,
      "rowLimit": 10000
     },
     "inputWidgets": {},
     "nuid": "6fced348-d2da-40af-ba4d-7d3e821a19a8",
     "showTitle": false,
     "tableResultSettingsMap": {},
     "title": ""
    }
   },
   "outputs": [
    {
     "output_type": "stream",
     "name": "stdout",
     "output_type": "stream",
     "text": [
      "root\n |-- YEAR: integer (nullable = true)\n |-- MONTH: integer (nullable = true)\n |-- DAY: integer (nullable = true)\n |-- DAY_OF_WEEK: integer (nullable = true)\n |-- AIRLINE: string (nullable = true)\n |-- FLIGHT_NUMBER: integer (nullable = true)\n |-- TAIL_NUMBER: string (nullable = true)\n |-- ORIGIN_AIRPORT: string (nullable = true)\n |-- DESTINATION_AIRPORT: string (nullable = true)\n |-- SCHEDULED_DEPARTURE: integer (nullable = true)\n |-- DEPARTURE_TIME: integer (nullable = true)\n |-- DEPARTURE_DELAY: integer (nullable = true)\n |-- TAXI_OUT: integer (nullable = true)\n |-- WHEELS_OFF: integer (nullable = true)\n |-- SCHEDULED_TIME: integer (nullable = true)\n |-- ELAPSED_TIME: integer (nullable = true)\n |-- AIR_TIME: integer (nullable = true)\n |-- DISTANCE: integer (nullable = true)\n |-- WHEELS_ON: integer (nullable = true)\n |-- TAXI_IN: integer (nullable = true)\n |-- SCHEDULED_ARRIVAL: integer (nullable = true)\n |-- ARRIVAL_TIME: integer (nullable = true)\n |-- ARRIVAL_DELAY: integer (nullable = true)\n |-- DIVERTED: integer (nullable = true)\n |-- CANCELLED: integer (nullable = true)\n |-- CANCELLATION_REASON: string (nullable = true)\n |-- AIR_SYSTEM_DELAY: integer (nullable = true)\n |-- SECURITY_DELAY: integer (nullable = true)\n |-- AIRLINE_DELAY: integer (nullable = true)\n |-- LATE_AIRCRAFT_DELAY: integer (nullable = true)\n |-- WEATHER_DELAY: integer (nullable = true)\n\n"
     ]
    }
   ],
   "source": [
    "# Display schema\n",
    "df.printSchema()"
   ]
  },
  {
   "cell_type": "code",
   "execution_count": 0,
   "metadata": {
    "application/vnd.databricks.v1+cell": {
     "cellMetadata": {
      "byteLimit": 2048000,
      "rowLimit": 10000
     },
     "inputWidgets": {},
     "nuid": "d6ab92e2-9fb8-47b0-994a-6453941871f5",
     "showTitle": false,
     "tableResultSettingsMap": {},
     "title": ""
    }
   },
   "outputs": [
    {
     "output_type": "display_data",
     "data": {
      "text/html": [
       "<style scoped>\n",
       "  .table-result-container {\n",
       "    max-height: 300px;\n",
       "    overflow: auto;\n",
       "  }\n",
       "  table, th, td {\n",
       "    border: 1px solid black;\n",
       "    border-collapse: collapse;\n",
       "  }\n",
       "  th, td {\n",
       "    padding: 5px;\n",
       "  }\n",
       "  th {\n",
       "    text-align: left;\n",
       "  }\n",
       "</style><div class='table-result-container'><table class='table-result'><thead style='background-color: white'><tr><th>YEAR</th><th>MONTH</th><th>DAY</th><th>DAY_OF_WEEK</th><th>AIRLINE</th><th>FLIGHT_NUMBER</th><th>TAIL_NUMBER</th><th>ORIGIN_AIRPORT</th><th>DESTINATION_AIRPORT</th><th>SCHEDULED_DEPARTURE</th><th>DEPARTURE_TIME</th><th>DEPARTURE_DELAY</th><th>TAXI_OUT</th><th>WHEELS_OFF</th><th>SCHEDULED_TIME</th><th>ELAPSED_TIME</th><th>AIR_TIME</th><th>DISTANCE</th><th>WHEELS_ON</th><th>TAXI_IN</th><th>SCHEDULED_ARRIVAL</th><th>ARRIVAL_TIME</th><th>ARRIVAL_DELAY</th><th>DIVERTED</th><th>CANCELLED</th><th>CANCELLATION_REASON</th><th>AIR_SYSTEM_DELAY</th><th>SECURITY_DELAY</th><th>AIRLINE_DELAY</th><th>LATE_AIRCRAFT_DELAY</th><th>WEATHER_DELAY</th></tr></thead><tbody><tr><td>2015</td><td>1</td><td>1</td><td>4</td><td>AS</td><td>98</td><td>N407AS</td><td>ANC</td><td>SEA</td><td>5</td><td>2354</td><td>-11</td><td>21</td><td>15</td><td>205</td><td>194</td><td>169</td><td>1448</td><td>404</td><td>4</td><td>430</td><td>408</td><td>-22</td><td>0</td><td>0</td><td>null</td><td>null</td><td>null</td><td>null</td><td>null</td><td>null</td></tr><tr><td>2015</td><td>1</td><td>1</td><td>4</td><td>AA</td><td>2336</td><td>N3KUAA</td><td>LAX</td><td>PBI</td><td>10</td><td>2</td><td>-8</td><td>12</td><td>14</td><td>280</td><td>279</td><td>263</td><td>2330</td><td>737</td><td>4</td><td>750</td><td>741</td><td>-9</td><td>0</td><td>0</td><td>null</td><td>null</td><td>null</td><td>null</td><td>null</td><td>null</td></tr><tr><td>2015</td><td>1</td><td>1</td><td>4</td><td>US</td><td>840</td><td>N171US</td><td>SFO</td><td>CLT</td><td>20</td><td>18</td><td>-2</td><td>16</td><td>34</td><td>286</td><td>293</td><td>266</td><td>2296</td><td>800</td><td>11</td><td>806</td><td>811</td><td>5</td><td>0</td><td>0</td><td>null</td><td>null</td><td>null</td><td>null</td><td>null</td><td>null</td></tr><tr><td>2015</td><td>1</td><td>1</td><td>4</td><td>AA</td><td>258</td><td>N3HYAA</td><td>LAX</td><td>MIA</td><td>20</td><td>15</td><td>-5</td><td>15</td><td>30</td><td>285</td><td>281</td><td>258</td><td>2342</td><td>748</td><td>8</td><td>805</td><td>756</td><td>-9</td><td>0</td><td>0</td><td>null</td><td>null</td><td>null</td><td>null</td><td>null</td><td>null</td></tr><tr><td>2015</td><td>1</td><td>1</td><td>4</td><td>AS</td><td>135</td><td>N527AS</td><td>SEA</td><td>ANC</td><td>25</td><td>24</td><td>-1</td><td>11</td><td>35</td><td>235</td><td>215</td><td>199</td><td>1448</td><td>254</td><td>5</td><td>320</td><td>259</td><td>-21</td><td>0</td><td>0</td><td>null</td><td>null</td><td>null</td><td>null</td><td>null</td><td>null</td></tr><tr><td>2015</td><td>1</td><td>1</td><td>4</td><td>DL</td><td>806</td><td>N3730B</td><td>SFO</td><td>MSP</td><td>25</td><td>20</td><td>-5</td><td>18</td><td>38</td><td>217</td><td>230</td><td>206</td><td>1589</td><td>604</td><td>6</td><td>602</td><td>610</td><td>8</td><td>0</td><td>0</td><td>null</td><td>null</td><td>null</td><td>null</td><td>null</td><td>null</td></tr><tr><td>2015</td><td>1</td><td>1</td><td>4</td><td>NK</td><td>612</td><td>N635NK</td><td>LAS</td><td>MSP</td><td>25</td><td>19</td><td>-6</td><td>11</td><td>30</td><td>181</td><td>170</td><td>154</td><td>1299</td><td>504</td><td>5</td><td>526</td><td>509</td><td>-17</td><td>0</td><td>0</td><td>null</td><td>null</td><td>null</td><td>null</td><td>null</td><td>null</td></tr><tr><td>2015</td><td>1</td><td>1</td><td>4</td><td>US</td><td>2013</td><td>N584UW</td><td>LAX</td><td>CLT</td><td>30</td><td>44</td><td>14</td><td>13</td><td>57</td><td>273</td><td>249</td><td>228</td><td>2125</td><td>745</td><td>8</td><td>803</td><td>753</td><td>-10</td><td>0</td><td>0</td><td>null</td><td>null</td><td>null</td><td>null</td><td>null</td><td>null</td></tr><tr><td>2015</td><td>1</td><td>1</td><td>4</td><td>AA</td><td>1112</td><td>N3LAAA</td><td>SFO</td><td>DFW</td><td>30</td><td>19</td><td>-11</td><td>17</td><td>36</td><td>195</td><td>193</td><td>173</td><td>1464</td><td>529</td><td>3</td><td>545</td><td>532</td><td>-13</td><td>0</td><td>0</td><td>null</td><td>null</td><td>null</td><td>null</td><td>null</td><td>null</td></tr><tr><td>2015</td><td>1</td><td>1</td><td>4</td><td>DL</td><td>1173</td><td>N826DN</td><td>LAS</td><td>ATL</td><td>30</td><td>33</td><td>3</td><td>12</td><td>45</td><td>221</td><td>203</td><td>186</td><td>1747</td><td>651</td><td>5</td><td>711</td><td>656</td><td>-15</td><td>0</td><td>0</td><td>null</td><td>null</td><td>null</td><td>null</td><td>null</td><td>null</td></tr></tbody></table></div>"
      ]
     },
     "metadata": {
      "application/vnd.databricks.v1+output": {
       "addedWidgets": {},
       "aggData": [],
       "aggError": "",
       "aggOverflow": false,
       "aggSchema": [],
       "aggSeriesLimitReached": false,
       "aggType": "",
       "arguments": {},
       "columnCustomDisplayInfos": {},
       "data": [
        [
         2015,
         1,
         1,
         4,
         "AS",
         98,
         "N407AS",
         "ANC",
         "SEA",
         5,
         2354,
         -11,
         21,
         15,
         205,
         194,
         169,
         1448,
         404,
         4,
         430,
         408,
         -22,
         0,
         0,
         null,
         null,
         null,
         null,
         null,
         null
        ],
        [
         2015,
         1,
         1,
         4,
         "AA",
         2336,
         "N3KUAA",
         "LAX",
         "PBI",
         10,
         2,
         -8,
         12,
         14,
         280,
         279,
         263,
         2330,
         737,
         4,
         750,
         741,
         -9,
         0,
         0,
         null,
         null,
         null,
         null,
         null,
         null
        ],
        [
         2015,
         1,
         1,
         4,
         "US",
         840,
         "N171US",
         "SFO",
         "CLT",
         20,
         18,
         -2,
         16,
         34,
         286,
         293,
         266,
         2296,
         800,
         11,
         806,
         811,
         5,
         0,
         0,
         null,
         null,
         null,
         null,
         null,
         null
        ],
        [
         2015,
         1,
         1,
         4,
         "AA",
         258,
         "N3HYAA",
         "LAX",
         "MIA",
         20,
         15,
         -5,
         15,
         30,
         285,
         281,
         258,
         2342,
         748,
         8,
         805,
         756,
         -9,
         0,
         0,
         null,
         null,
         null,
         null,
         null,
         null
        ],
        [
         2015,
         1,
         1,
         4,
         "AS",
         135,
         "N527AS",
         "SEA",
         "ANC",
         25,
         24,
         -1,
         11,
         35,
         235,
         215,
         199,
         1448,
         254,
         5,
         320,
         259,
         -21,
         0,
         0,
         null,
         null,
         null,
         null,
         null,
         null
        ],
        [
         2015,
         1,
         1,
         4,
         "DL",
         806,
         "N3730B",
         "SFO",
         "MSP",
         25,
         20,
         -5,
         18,
         38,
         217,
         230,
         206,
         1589,
         604,
         6,
         602,
         610,
         8,
         0,
         0,
         null,
         null,
         null,
         null,
         null,
         null
        ],
        [
         2015,
         1,
         1,
         4,
         "NK",
         612,
         "N635NK",
         "LAS",
         "MSP",
         25,
         19,
         -6,
         11,
         30,
         181,
         170,
         154,
         1299,
         504,
         5,
         526,
         509,
         -17,
         0,
         0,
         null,
         null,
         null,
         null,
         null,
         null
        ],
        [
         2015,
         1,
         1,
         4,
         "US",
         2013,
         "N584UW",
         "LAX",
         "CLT",
         30,
         44,
         14,
         13,
         57,
         273,
         249,
         228,
         2125,
         745,
         8,
         803,
         753,
         -10,
         0,
         0,
         null,
         null,
         null,
         null,
         null,
         null
        ],
        [
         2015,
         1,
         1,
         4,
         "AA",
         1112,
         "N3LAAA",
         "SFO",
         "DFW",
         30,
         19,
         -11,
         17,
         36,
         195,
         193,
         173,
         1464,
         529,
         3,
         545,
         532,
         -13,
         0,
         0,
         null,
         null,
         null,
         null,
         null,
         null
        ],
        [
         2015,
         1,
         1,
         4,
         "DL",
         1173,
         "N826DN",
         "LAS",
         "ATL",
         30,
         33,
         3,
         12,
         45,
         221,
         203,
         186,
         1747,
         651,
         5,
         711,
         656,
         -15,
         0,
         0,
         null,
         null,
         null,
         null,
         null,
         null
        ]
       ],
       "datasetInfos": [],
       "dbfsResultPath": null,
       "isJsonSchema": true,
       "metadata": {},
       "overflow": false,
       "plotOptions": {
        "customPlotOptions": {},
        "displayType": "table",
        "pivotAggregation": null,
        "pivotColumns": null,
        "xColumns": null,
        "yColumns": null
       },
       "removedWidgets": [],
       "schema": [
        {
         "metadata": "{}",
         "name": "YEAR",
         "type": "\"integer\""
        },
        {
         "metadata": "{}",
         "name": "MONTH",
         "type": "\"integer\""
        },
        {
         "metadata": "{}",
         "name": "DAY",
         "type": "\"integer\""
        },
        {
         "metadata": "{}",
         "name": "DAY_OF_WEEK",
         "type": "\"integer\""
        },
        {
         "metadata": "{}",
         "name": "AIRLINE",
         "type": "\"string\""
        },
        {
         "metadata": "{}",
         "name": "FLIGHT_NUMBER",
         "type": "\"integer\""
        },
        {
         "metadata": "{}",
         "name": "TAIL_NUMBER",
         "type": "\"string\""
        },
        {
         "metadata": "{}",
         "name": "ORIGIN_AIRPORT",
         "type": "\"string\""
        },
        {
         "metadata": "{}",
         "name": "DESTINATION_AIRPORT",
         "type": "\"string\""
        },
        {
         "metadata": "{}",
         "name": "SCHEDULED_DEPARTURE",
         "type": "\"integer\""
        },
        {
         "metadata": "{}",
         "name": "DEPARTURE_TIME",
         "type": "\"integer\""
        },
        {
         "metadata": "{}",
         "name": "DEPARTURE_DELAY",
         "type": "\"integer\""
        },
        {
         "metadata": "{}",
         "name": "TAXI_OUT",
         "type": "\"integer\""
        },
        {
         "metadata": "{}",
         "name": "WHEELS_OFF",
         "type": "\"integer\""
        },
        {
         "metadata": "{}",
         "name": "SCHEDULED_TIME",
         "type": "\"integer\""
        },
        {
         "metadata": "{}",
         "name": "ELAPSED_TIME",
         "type": "\"integer\""
        },
        {
         "metadata": "{}",
         "name": "AIR_TIME",
         "type": "\"integer\""
        },
        {
         "metadata": "{}",
         "name": "DISTANCE",
         "type": "\"integer\""
        },
        {
         "metadata": "{}",
         "name": "WHEELS_ON",
         "type": "\"integer\""
        },
        {
         "metadata": "{}",
         "name": "TAXI_IN",
         "type": "\"integer\""
        },
        {
         "metadata": "{}",
         "name": "SCHEDULED_ARRIVAL",
         "type": "\"integer\""
        },
        {
         "metadata": "{}",
         "name": "ARRIVAL_TIME",
         "type": "\"integer\""
        },
        {
         "metadata": "{}",
         "name": "ARRIVAL_DELAY",
         "type": "\"integer\""
        },
        {
         "metadata": "{}",
         "name": "DIVERTED",
         "type": "\"integer\""
        },
        {
         "metadata": "{}",
         "name": "CANCELLED",
         "type": "\"integer\""
        },
        {
         "metadata": "{}",
         "name": "CANCELLATION_REASON",
         "type": "\"string\""
        },
        {
         "metadata": "{}",
         "name": "AIR_SYSTEM_DELAY",
         "type": "\"integer\""
        },
        {
         "metadata": "{}",
         "name": "SECURITY_DELAY",
         "type": "\"integer\""
        },
        {
         "metadata": "{}",
         "name": "AIRLINE_DELAY",
         "type": "\"integer\""
        },
        {
         "metadata": "{}",
         "name": "LATE_AIRCRAFT_DELAY",
         "type": "\"integer\""
        },
        {
         "metadata": "{}",
         "name": "WEATHER_DELAY",
         "type": "\"integer\""
        }
       ],
       "type": "table"
      }
     },
     "output_type": "display_data"
    }
   ],
   "source": [
    "# Display the first 10 rows of the DataFrame\n",
    "display(df.limit(10))"
   ]
  },
  {
   "cell_type": "code",
   "execution_count": 0,
   "metadata": {
    "application/vnd.databricks.v1+cell": {
     "cellMetadata": {
      "byteLimit": 2048000,
      "rowLimit": 10000
     },
     "inputWidgets": {},
     "nuid": "0a3e74d1-ba04-4742-81a3-7a14f4d13b92",
     "showTitle": false,
     "tableResultSettingsMap": {},
     "title": ""
    }
   },
   "outputs": [
    {
     "output_type": "stream",
     "name": "stdout",
     "output_type": "stream",
     "text": [
      "Number of rows: 5819079, Number of columns: 31\n"
     ]
    }
   ],
   "source": [
    "# Count the number of rows and columns.\n",
    "num_rows = df.count()\n",
    "num_columns = len(df.columns)\n",
    "print(f\"Number of rows: {num_rows}, Number of columns: {num_columns}\")\n"
   ]
  },
  {
   "cell_type": "markdown",
   "metadata": {
    "application/vnd.databricks.v1+cell": {
     "cellMetadata": {},
     "inputWidgets": {},
     "nuid": "2d0270f7-e237-4e52-966e-0f9fa01deaf8",
     "showTitle": false,
     "tableResultSettingsMap": {},
     "title": ""
    }
   },
   "source": [
    "QUESTIONS:\n",
    "How many rows and columns does the dataset contain?\n",
    "\n",
    "Answer : There are 5819079 rows and 31 columns.\n",
    "\n",
    "What are the data types of each column?\n",
    "\n",
    "Answer: The data types of each column are displayed using printSchema(). Here are the data types of each column in text form: YEAR: integer,MONTH: integer,DAY: integer,DAY_OF_WEEK: integer,AIRLINE: string,FLIGHT_NUMBER: integer,TAIL_NUMBER: string,ORIGIN_AIRPORT: string,DESTINATION_AIRPORT: string,SCHEDULED_DEPARTURE: integer,DEPARTURE_TIME: integer,DEPARTURE_DELAY: integer,TAXI_OUT: integer,WHEELS_OFF: integer,SCHEDULED_TIME: integer,ELAPSED_TIME: integer,AIR_TIME: integer,DISTANCE: integer,WHEELS_ON: integer,TAXI_IN: integer,SCHEDULED_ARRIVAL: integer,ARRIVAL_TIME: integer,ARRIVAL_DELAY: integer,DIVERTED: integer,CANCELLED: integer,CANCELLATION_REASON: string,AIR_SYSTEM_DELAY: integer,SECURITY_DELAY: integer,AIRLINE_DELAY: integer,LATE_AIRCRAFT_DELAY: integer,WEATHER_DELAY: integer"
   ]
  },
  {
   "cell_type": "markdown",
   "metadata": {
    "application/vnd.databricks.v1+cell": {
     "cellMetadata": {},
     "inputWidgets": {},
     "nuid": "7e79c10a-5aca-4fad-9378-ca7111149436",
     "showTitle": false,
     "tableResultSettingsMap": {},
     "title": ""
    }
   },
   "source": [
    "    Step 2: Data Cleaning and Transformation**"
   ]
  },
  {
   "cell_type": "markdown",
   "metadata": {
    "application/vnd.databricks.v1+cell": {
     "cellMetadata": {},
     "inputWidgets": {},
     "nuid": "1b4da7c8-d1a1-45b2-9d03-344baed898ba",
     "showTitle": false,
     "tableResultSettingsMap": {},
     "title": ""
    }
   },
   "source": [
    "  2.1. Handle Missing Values"
   ]
  },
  {
   "cell_type": "code",
   "execution_count": 0,
   "metadata": {
    "application/vnd.databricks.v1+cell": {
     "cellMetadata": {
      "byteLimit": 2048000,
      "rowLimit": 10000
     },
     "inputWidgets": {},
     "nuid": "a18e9a9f-7fb7-41f2-a451-f62388acae0c",
     "showTitle": false,
     "tableResultSettingsMap": {},
     "title": ""
    }
   },
   "outputs": [
    {
     "output_type": "display_data",
     "data": {
      "text/html": [
       "<style scoped>\n",
       "  .table-result-container {\n",
       "    max-height: 300px;\n",
       "    overflow: auto;\n",
       "  }\n",
       "  table, th, td {\n",
       "    border: 1px solid black;\n",
       "    border-collapse: collapse;\n",
       "  }\n",
       "  th, td {\n",
       "    padding: 5px;\n",
       "  }\n",
       "  th {\n",
       "    text-align: left;\n",
       "  }\n",
       "</style><div class='table-result-container'><table class='table-result'><thead style='background-color: white'><tr><th>YEAR</th><th>MONTH</th><th>DAY</th><th>DAY_OF_WEEK</th><th>AIRLINE</th><th>FLIGHT_NUMBER</th><th>TAIL_NUMBER</th><th>ORIGIN_AIRPORT</th><th>DESTINATION_AIRPORT</th><th>SCHEDULED_DEPARTURE</th><th>DEPARTURE_TIME</th><th>DEPARTURE_DELAY</th><th>TAXI_OUT</th><th>WHEELS_OFF</th><th>SCHEDULED_TIME</th><th>ELAPSED_TIME</th><th>AIR_TIME</th><th>DISTANCE</th><th>WHEELS_ON</th><th>TAXI_IN</th><th>SCHEDULED_ARRIVAL</th><th>ARRIVAL_TIME</th><th>ARRIVAL_DELAY</th><th>DIVERTED</th><th>CANCELLED</th><th>CANCELLATION_REASON</th><th>AIR_SYSTEM_DELAY</th><th>SECURITY_DELAY</th><th>AIRLINE_DELAY</th><th>LATE_AIRCRAFT_DELAY</th><th>WEATHER_DELAY</th></tr></thead><tbody><tr><td>0</td><td>0</td><td>0</td><td>0</td><td>0</td><td>0</td><td>14721</td><td>0</td><td>0</td><td>0</td><td>86153</td><td>86153</td><td>89047</td><td>89047</td><td>6</td><td>105071</td><td>105071</td><td>0</td><td>92513</td><td>92513</td><td>0</td><td>92513</td><td>105071</td><td>0</td><td>0</td><td>5729195</td><td>4755640</td><td>4755640</td><td>4755640</td><td>4755640</td><td>4755640</td></tr></tbody></table></div>"
      ]
     },
     "metadata": {
      "application/vnd.databricks.v1+output": {
       "addedWidgets": {},
       "aggData": [],
       "aggError": "",
       "aggOverflow": false,
       "aggSchema": [],
       "aggSeriesLimitReached": false,
       "aggType": "",
       "arguments": {},
       "columnCustomDisplayInfos": {},
       "data": [
        [
         0,
         0,
         0,
         0,
         0,
         0,
         14721,
         0,
         0,
         0,
         86153,
         86153,
         89047,
         89047,
         6,
         105071,
         105071,
         0,
         92513,
         92513,
         0,
         92513,
         105071,
         0,
         0,
         5729195,
         4755640,
         4755640,
         4755640,
         4755640,
         4755640
        ]
       ],
       "datasetInfos": [],
       "dbfsResultPath": null,
       "isJsonSchema": true,
       "metadata": {},
       "overflow": false,
       "plotOptions": {
        "customPlotOptions": {},
        "displayType": "table",
        "pivotAggregation": null,
        "pivotColumns": null,
        "xColumns": null,
        "yColumns": null
       },
       "removedWidgets": [],
       "schema": [
        {
         "metadata": "{}",
         "name": "YEAR",
         "type": "\"long\""
        },
        {
         "metadata": "{}",
         "name": "MONTH",
         "type": "\"long\""
        },
        {
         "metadata": "{}",
         "name": "DAY",
         "type": "\"long\""
        },
        {
         "metadata": "{}",
         "name": "DAY_OF_WEEK",
         "type": "\"long\""
        },
        {
         "metadata": "{}",
         "name": "AIRLINE",
         "type": "\"long\""
        },
        {
         "metadata": "{}",
         "name": "FLIGHT_NUMBER",
         "type": "\"long\""
        },
        {
         "metadata": "{}",
         "name": "TAIL_NUMBER",
         "type": "\"long\""
        },
        {
         "metadata": "{}",
         "name": "ORIGIN_AIRPORT",
         "type": "\"long\""
        },
        {
         "metadata": "{}",
         "name": "DESTINATION_AIRPORT",
         "type": "\"long\""
        },
        {
         "metadata": "{}",
         "name": "SCHEDULED_DEPARTURE",
         "type": "\"long\""
        },
        {
         "metadata": "{}",
         "name": "DEPARTURE_TIME",
         "type": "\"long\""
        },
        {
         "metadata": "{}",
         "name": "DEPARTURE_DELAY",
         "type": "\"long\""
        },
        {
         "metadata": "{}",
         "name": "TAXI_OUT",
         "type": "\"long\""
        },
        {
         "metadata": "{}",
         "name": "WHEELS_OFF",
         "type": "\"long\""
        },
        {
         "metadata": "{}",
         "name": "SCHEDULED_TIME",
         "type": "\"long\""
        },
        {
         "metadata": "{}",
         "name": "ELAPSED_TIME",
         "type": "\"long\""
        },
        {
         "metadata": "{}",
         "name": "AIR_TIME",
         "type": "\"long\""
        },
        {
         "metadata": "{}",
         "name": "DISTANCE",
         "type": "\"long\""
        },
        {
         "metadata": "{}",
         "name": "WHEELS_ON",
         "type": "\"long\""
        },
        {
         "metadata": "{}",
         "name": "TAXI_IN",
         "type": "\"long\""
        },
        {
         "metadata": "{}",
         "name": "SCHEDULED_ARRIVAL",
         "type": "\"long\""
        },
        {
         "metadata": "{}",
         "name": "ARRIVAL_TIME",
         "type": "\"long\""
        },
        {
         "metadata": "{}",
         "name": "ARRIVAL_DELAY",
         "type": "\"long\""
        },
        {
         "metadata": "{}",
         "name": "DIVERTED",
         "type": "\"long\""
        },
        {
         "metadata": "{}",
         "name": "CANCELLED",
         "type": "\"long\""
        },
        {
         "metadata": "{}",
         "name": "CANCELLATION_REASON",
         "type": "\"long\""
        },
        {
         "metadata": "{}",
         "name": "AIR_SYSTEM_DELAY",
         "type": "\"long\""
        },
        {
         "metadata": "{}",
         "name": "SECURITY_DELAY",
         "type": "\"long\""
        },
        {
         "metadata": "{}",
         "name": "AIRLINE_DELAY",
         "type": "\"long\""
        },
        {
         "metadata": "{}",
         "name": "LATE_AIRCRAFT_DELAY",
         "type": "\"long\""
        },
        {
         "metadata": "{}",
         "name": "WEATHER_DELAY",
         "type": "\"long\""
        }
       ],
       "type": "table"
      }
     },
     "output_type": "display_data"
    }
   ],
   "source": [
    "# Count the number of missing values in each column\n",
    "missing_counts = df.select([F.count(F.when(F.col(c).isNull(), c)).alias(c) for c in df.columns])\n",
    "display(missing_counts)"
   ]
  },
  {
   "cell_type": "code",
   "execution_count": 0,
   "metadata": {
    "application/vnd.databricks.v1+cell": {
     "cellMetadata": {
      "byteLimit": 2048000,
      "rowLimit": 10000
     },
     "inputWidgets": {},
     "nuid": "ef59803d-7c8b-46e8-a61b-9bc641c5066a",
     "showTitle": false,
     "tableResultSettingsMap": {},
     "title": ""
    }
   },
   "outputs": [],
   "source": [
    "# Impute missing values for numerical columns with mean or median\n",
    "from pyspark.ml.feature import Imputer\n",
    "\n",
    "numerical_columns = ['DEPARTURE_TIME', 'DEPARTURE_DELAY', 'TAXI_OUT', 'WHEELS_OFF', \n",
    "                     'SCHEDULED_TIME', 'ELAPSED_TIME', 'AIR_TIME','WHEELS_ON', 'TAXI_IN','ARRIVAL_TIME', 'ARRIVAL_DELAY', 'AIR_SYSTEM_DELAY', 'SECURITY_DELAY' , 'AIRLINE_DELAY','LATE_AIRCRAFT_DELAY','WEATHER_DELAY']\n",
    "\n",
    "imputer = Imputer(inputCols=numerical_columns, outputCols=[f\"{col}_imputed\" for col in numerical_columns]).setStrategy(\"median\")\n",
    "df = imputer.fit(df).transform(df)"
   ]
  },
  {
   "cell_type": "code",
   "execution_count": 0,
   "metadata": {
    "application/vnd.databricks.v1+cell": {
     "cellMetadata": {
      "byteLimit": 2048000,
      "rowLimit": 10000
     },
     "inputWidgets": {},
     "nuid": "9804dbb5-d310-406b-b463-a053b9ad7ed3",
     "showTitle": false,
     "tableResultSettingsMap": {},
     "title": ""
    }
   },
   "outputs": [],
   "source": [
    "# Impute categorical columns with \"Unknown\" for missing values\n",
    "categorical_columns = ['TAIL_NUMBER','CANCELLATION_REASON',]\n",
    "\n",
    "for column in categorical_columns:\n",
    "    df = df.na.fill({column: 'Unknown'})\n"
   ]
  },
  {
   "cell_type": "markdown",
   "metadata": {
    "application/vnd.databricks.v1+cell": {
     "cellMetadata": {},
     "inputWidgets": {},
     "nuid": "f54fa1cd-37c3-4d44-8591-90733e83a687",
     "showTitle": false,
     "tableResultSettingsMap": {},
     "title": ""
    }
   },
   "source": [
    "    2.2 Feature Engineering: Create new features that may be useful for analysis."
   ]
  },
  {
   "cell_type": "markdown",
   "metadata": {
    "application/vnd.databricks.v1+cell": {
     "cellMetadata": {},
     "inputWidgets": {},
     "nuid": "425fb17d-5b7d-412d-a9e8-4260b4f8da26",
     "showTitle": false,
     "tableResultSettingsMap": {},
     "title": ""
    }
   },
   "source": [
    "Conversion of  the FLIGHT_DATE column to extract features like DAY_OF_WEEK or MONTH is not \n",
    "required since the dataset already contains as per the criteria ."
   ]
  },
  {
   "cell_type": "code",
   "execution_count": 0,
   "metadata": {
    "application/vnd.databricks.v1+cell": {
     "cellMetadata": {
      "byteLimit": 2048000,
      "rowLimit": 10000
     },
     "inputWidgets": {},
     "nuid": "b69a5615-21a9-48ea-8f54-432cead1d51c",
     "showTitle": false,
     "tableResultSettingsMap": {},
     "title": ""
    }
   },
   "outputs": [],
   "source": [
    "# Create binary columns for different delay types\n",
    "df = df.withColumn(\"WasDelayed\", when(col(\"ARRIVAL_DELAY\") > 0, 1).otherwise(0))\n",
    "df = df.withColumn(\"WasDepartureDelayed\", when(col(\"DEPARTURE_DELAY\") > 0, 1).otherwise(0))\n",
    "df = df.withColumn(\"WasArrivalLate\", when(col(\"ARRIVAL_DELAY\") > 0, 1).otherwise(0))\n",
    "df = df.withColumn(\"AirSystemDelayOccurred\", when(col(\"AIR_SYSTEM_DELAY\") > 0, 1).otherwise(0))\n",
    "df = df.withColumn(\"SecurityDelayOccurred\", when(col(\"SECURITY_DELAY\") > 0, 1).otherwise(0))\n",
    "df = df.withColumn(\"AirlineDelayOccurred\", when(col(\"AIRLINE_DELAY\") > 0, 1).otherwise(0))\n",
    "df = df.withColumn(\"LateAircraftDelayOccurred\", when(col(\"LATE_AIRCRAFT_DELAY\") > 0, 1).otherwise(0))\n",
    "df = df.withColumn(\"WeatherDelayOccurred\", when(col(\"WEATHER_DELAY\") > 0, 1).otherwise(0))\n"
   ]
  },
  {
   "cell_type": "code",
   "execution_count": 0,
   "metadata": {
    "application/vnd.databricks.v1+cell": {
     "cellMetadata": {
      "byteLimit": 2048000,
      "rowLimit": 10000
     },
     "inputWidgets": {},
     "nuid": "0db02e7f-26df-4561-99bd-de1c61e4ba5f",
     "showTitle": false,
     "tableResultSettingsMap": {},
     "title": ""
    }
   },
   "outputs": [
    {
     "output_type": "stream",
     "name": "stdout",
     "output_type": "stream",
     "text": [
      "root\n |-- YEAR: integer (nullable = true)\n |-- MONTH: integer (nullable = true)\n |-- DAY: integer (nullable = true)\n |-- DAY_OF_WEEK: integer (nullable = true)\n |-- AIRLINE: string (nullable = true)\n |-- FLIGHT_NUMBER: integer (nullable = true)\n |-- TAIL_NUMBER: string (nullable = false)\n |-- ORIGIN_AIRPORT: string (nullable = true)\n |-- DESTINATION_AIRPORT: string (nullable = true)\n |-- SCHEDULED_DEPARTURE: integer (nullable = true)\n |-- DEPARTURE_TIME: integer (nullable = true)\n |-- DEPARTURE_DELAY: integer (nullable = true)\n |-- TAXI_OUT: integer (nullable = true)\n |-- WHEELS_OFF: integer (nullable = true)\n |-- SCHEDULED_TIME: integer (nullable = true)\n |-- ELAPSED_TIME: integer (nullable = true)\n |-- AIR_TIME: integer (nullable = true)\n |-- DISTANCE: integer (nullable = true)\n |-- WHEELS_ON: integer (nullable = true)\n |-- TAXI_IN: integer (nullable = true)\n |-- SCHEDULED_ARRIVAL: integer (nullable = true)\n |-- ARRIVAL_TIME: integer (nullable = true)\n |-- ARRIVAL_DELAY: integer (nullable = true)\n |-- DIVERTED: integer (nullable = true)\n |-- CANCELLED: integer (nullable = true)\n |-- CANCELLATION_REASON: string (nullable = false)\n |-- AIR_SYSTEM_DELAY: integer (nullable = true)\n |-- SECURITY_DELAY: integer (nullable = true)\n |-- AIRLINE_DELAY: integer (nullable = true)\n |-- LATE_AIRCRAFT_DELAY: integer (nullable = true)\n |-- WEATHER_DELAY: integer (nullable = true)\n |-- DEPARTURE_TIME_imputed: integer (nullable = true)\n |-- DEPARTURE_DELAY_imputed: integer (nullable = true)\n |-- TAXI_OUT_imputed: integer (nullable = true)\n |-- WHEELS_OFF_imputed: integer (nullable = true)\n |-- SCHEDULED_TIME_imputed: integer (nullable = true)\n |-- ELAPSED_TIME_imputed: integer (nullable = true)\n |-- AIR_TIME_imputed: integer (nullable = true)\n |-- WHEELS_ON_imputed: integer (nullable = true)\n |-- TAXI_IN_imputed: integer (nullable = true)\n |-- ARRIVAL_TIME_imputed: integer (nullable = true)\n |-- ARRIVAL_DELAY_imputed: integer (nullable = true)\n |-- AIR_SYSTEM_DELAY_imputed: integer (nullable = true)\n |-- SECURITY_DELAY_imputed: integer (nullable = true)\n |-- AIRLINE_DELAY_imputed: integer (nullable = true)\n |-- LATE_AIRCRAFT_DELAY_imputed: integer (nullable = true)\n |-- WEATHER_DELAY_imputed: integer (nullable = true)\n |-- WasDelayed: integer (nullable = false)\n |-- WasDepartureDelayed: integer (nullable = false)\n |-- WasArrivalLate: integer (nullable = false)\n |-- AirSystemDelayOccurred: integer (nullable = false)\n |-- SecurityDelayOccurred: integer (nullable = false)\n |-- AirlineDelayOccurred: integer (nullable = false)\n |-- LateAircraftDelayOccurred: integer (nullable = false)\n |-- WeatherDelayOccurred: integer (nullable = false)\n\n"
     ]
    },
    {
     "output_type": "display_data",
     "data": {
      "text/html": [
       "<style scoped>\n",
       "  .table-result-container {\n",
       "    max-height: 300px;\n",
       "    overflow: auto;\n",
       "  }\n",
       "  table, th, td {\n",
       "    border: 1px solid black;\n",
       "    border-collapse: collapse;\n",
       "  }\n",
       "  th, td {\n",
       "    padding: 5px;\n",
       "  }\n",
       "  th {\n",
       "    text-align: left;\n",
       "  }\n",
       "</style><div class='table-result-container'><table class='table-result'><thead style='background-color: white'><tr><th>YEAR</th><th>MONTH</th><th>DAY</th><th>DAY_OF_WEEK</th><th>AIRLINE</th><th>FLIGHT_NUMBER</th><th>TAIL_NUMBER</th><th>ORIGIN_AIRPORT</th><th>DESTINATION_AIRPORT</th><th>SCHEDULED_DEPARTURE</th><th>DEPARTURE_TIME</th><th>DEPARTURE_DELAY</th><th>TAXI_OUT</th><th>WHEELS_OFF</th><th>SCHEDULED_TIME</th><th>ELAPSED_TIME</th><th>AIR_TIME</th><th>DISTANCE</th><th>WHEELS_ON</th><th>TAXI_IN</th><th>SCHEDULED_ARRIVAL</th><th>ARRIVAL_TIME</th><th>ARRIVAL_DELAY</th><th>DIVERTED</th><th>CANCELLED</th><th>CANCELLATION_REASON</th><th>AIR_SYSTEM_DELAY</th><th>SECURITY_DELAY</th><th>AIRLINE_DELAY</th><th>LATE_AIRCRAFT_DELAY</th><th>WEATHER_DELAY</th><th>DEPARTURE_TIME_imputed</th><th>DEPARTURE_DELAY_imputed</th><th>TAXI_OUT_imputed</th><th>WHEELS_OFF_imputed</th><th>SCHEDULED_TIME_imputed</th><th>ELAPSED_TIME_imputed</th><th>AIR_TIME_imputed</th><th>WHEELS_ON_imputed</th><th>TAXI_IN_imputed</th><th>ARRIVAL_TIME_imputed</th><th>ARRIVAL_DELAY_imputed</th><th>AIR_SYSTEM_DELAY_imputed</th><th>SECURITY_DELAY_imputed</th><th>AIRLINE_DELAY_imputed</th><th>LATE_AIRCRAFT_DELAY_imputed</th><th>WEATHER_DELAY_imputed</th><th>WasDelayed</th><th>WasDepartureDelayed</th><th>WasArrivalLate</th><th>AirSystemDelayOccurred</th><th>SecurityDelayOccurred</th><th>AirlineDelayOccurred</th><th>LateAircraftDelayOccurred</th><th>WeatherDelayOccurred</th></tr></thead><tbody><tr><td>2015</td><td>1</td><td>1</td><td>4</td><td>AS</td><td>98</td><td>N407AS</td><td>ANC</td><td>SEA</td><td>5</td><td>2354</td><td>-11</td><td>21</td><td>15</td><td>205</td><td>194</td><td>169</td><td>1448</td><td>404</td><td>4</td><td>430</td><td>408</td><td>-22</td><td>0</td><td>0</td><td>Unknown</td><td>null</td><td>null</td><td>null</td><td>null</td><td>null</td><td>2354</td><td>-11</td><td>21</td><td>15</td><td>205</td><td>194</td><td>169</td><td>404</td><td>4</td><td>408</td><td>-22</td><td>2</td><td>0</td><td>2</td><td>3</td><td>0</td><td>0</td><td>0</td><td>0</td><td>0</td><td>0</td><td>0</td><td>0</td><td>0</td></tr><tr><td>2015</td><td>1</td><td>1</td><td>4</td><td>AA</td><td>2336</td><td>N3KUAA</td><td>LAX</td><td>PBI</td><td>10</td><td>2</td><td>-8</td><td>12</td><td>14</td><td>280</td><td>279</td><td>263</td><td>2330</td><td>737</td><td>4</td><td>750</td><td>741</td><td>-9</td><td>0</td><td>0</td><td>Unknown</td><td>null</td><td>null</td><td>null</td><td>null</td><td>null</td><td>2</td><td>-8</td><td>12</td><td>14</td><td>280</td><td>279</td><td>263</td><td>737</td><td>4</td><td>741</td><td>-9</td><td>2</td><td>0</td><td>2</td><td>3</td><td>0</td><td>0</td><td>0</td><td>0</td><td>0</td><td>0</td><td>0</td><td>0</td><td>0</td></tr><tr><td>2015</td><td>1</td><td>1</td><td>4</td><td>US</td><td>840</td><td>N171US</td><td>SFO</td><td>CLT</td><td>20</td><td>18</td><td>-2</td><td>16</td><td>34</td><td>286</td><td>293</td><td>266</td><td>2296</td><td>800</td><td>11</td><td>806</td><td>811</td><td>5</td><td>0</td><td>0</td><td>Unknown</td><td>null</td><td>null</td><td>null</td><td>null</td><td>null</td><td>18</td><td>-2</td><td>16</td><td>34</td><td>286</td><td>293</td><td>266</td><td>800</td><td>11</td><td>811</td><td>5</td><td>2</td><td>0</td><td>2</td><td>3</td><td>0</td><td>1</td><td>0</td><td>1</td><td>0</td><td>0</td><td>0</td><td>0</td><td>0</td></tr><tr><td>2015</td><td>1</td><td>1</td><td>4</td><td>AA</td><td>258</td><td>N3HYAA</td><td>LAX</td><td>MIA</td><td>20</td><td>15</td><td>-5</td><td>15</td><td>30</td><td>285</td><td>281</td><td>258</td><td>2342</td><td>748</td><td>8</td><td>805</td><td>756</td><td>-9</td><td>0</td><td>0</td><td>Unknown</td><td>null</td><td>null</td><td>null</td><td>null</td><td>null</td><td>15</td><td>-5</td><td>15</td><td>30</td><td>285</td><td>281</td><td>258</td><td>748</td><td>8</td><td>756</td><td>-9</td><td>2</td><td>0</td><td>2</td><td>3</td><td>0</td><td>0</td><td>0</td><td>0</td><td>0</td><td>0</td><td>0</td><td>0</td><td>0</td></tr><tr><td>2015</td><td>1</td><td>1</td><td>4</td><td>AS</td><td>135</td><td>N527AS</td><td>SEA</td><td>ANC</td><td>25</td><td>24</td><td>-1</td><td>11</td><td>35</td><td>235</td><td>215</td><td>199</td><td>1448</td><td>254</td><td>5</td><td>320</td><td>259</td><td>-21</td><td>0</td><td>0</td><td>Unknown</td><td>null</td><td>null</td><td>null</td><td>null</td><td>null</td><td>24</td><td>-1</td><td>11</td><td>35</td><td>235</td><td>215</td><td>199</td><td>254</td><td>5</td><td>259</td><td>-21</td><td>2</td><td>0</td><td>2</td><td>3</td><td>0</td><td>0</td><td>0</td><td>0</td><td>0</td><td>0</td><td>0</td><td>0</td><td>0</td></tr><tr><td>2015</td><td>1</td><td>1</td><td>4</td><td>DL</td><td>806</td><td>N3730B</td><td>SFO</td><td>MSP</td><td>25</td><td>20</td><td>-5</td><td>18</td><td>38</td><td>217</td><td>230</td><td>206</td><td>1589</td><td>604</td><td>6</td><td>602</td><td>610</td><td>8</td><td>0</td><td>0</td><td>Unknown</td><td>null</td><td>null</td><td>null</td><td>null</td><td>null</td><td>20</td><td>-5</td><td>18</td><td>38</td><td>217</td><td>230</td><td>206</td><td>604</td><td>6</td><td>610</td><td>8</td><td>2</td><td>0</td><td>2</td><td>3</td><td>0</td><td>1</td><td>0</td><td>1</td><td>0</td><td>0</td><td>0</td><td>0</td><td>0</td></tr><tr><td>2015</td><td>1</td><td>1</td><td>4</td><td>NK</td><td>612</td><td>N635NK</td><td>LAS</td><td>MSP</td><td>25</td><td>19</td><td>-6</td><td>11</td><td>30</td><td>181</td><td>170</td><td>154</td><td>1299</td><td>504</td><td>5</td><td>526</td><td>509</td><td>-17</td><td>0</td><td>0</td><td>Unknown</td><td>null</td><td>null</td><td>null</td><td>null</td><td>null</td><td>19</td><td>-6</td><td>11</td><td>30</td><td>181</td><td>170</td><td>154</td><td>504</td><td>5</td><td>509</td><td>-17</td><td>2</td><td>0</td><td>2</td><td>3</td><td>0</td><td>0</td><td>0</td><td>0</td><td>0</td><td>0</td><td>0</td><td>0</td><td>0</td></tr><tr><td>2015</td><td>1</td><td>1</td><td>4</td><td>US</td><td>2013</td><td>N584UW</td><td>LAX</td><td>CLT</td><td>30</td><td>44</td><td>14</td><td>13</td><td>57</td><td>273</td><td>249</td><td>228</td><td>2125</td><td>745</td><td>8</td><td>803</td><td>753</td><td>-10</td><td>0</td><td>0</td><td>Unknown</td><td>null</td><td>null</td><td>null</td><td>null</td><td>null</td><td>44</td><td>14</td><td>13</td><td>57</td><td>273</td><td>249</td><td>228</td><td>745</td><td>8</td><td>753</td><td>-10</td><td>2</td><td>0</td><td>2</td><td>3</td><td>0</td><td>0</td><td>1</td><td>0</td><td>0</td><td>0</td><td>0</td><td>0</td><td>0</td></tr><tr><td>2015</td><td>1</td><td>1</td><td>4</td><td>AA</td><td>1112</td><td>N3LAAA</td><td>SFO</td><td>DFW</td><td>30</td><td>19</td><td>-11</td><td>17</td><td>36</td><td>195</td><td>193</td><td>173</td><td>1464</td><td>529</td><td>3</td><td>545</td><td>532</td><td>-13</td><td>0</td><td>0</td><td>Unknown</td><td>null</td><td>null</td><td>null</td><td>null</td><td>null</td><td>19</td><td>-11</td><td>17</td><td>36</td><td>195</td><td>193</td><td>173</td><td>529</td><td>3</td><td>532</td><td>-13</td><td>2</td><td>0</td><td>2</td><td>3</td><td>0</td><td>0</td><td>0</td><td>0</td><td>0</td><td>0</td><td>0</td><td>0</td><td>0</td></tr><tr><td>2015</td><td>1</td><td>1</td><td>4</td><td>DL</td><td>1173</td><td>N826DN</td><td>LAS</td><td>ATL</td><td>30</td><td>33</td><td>3</td><td>12</td><td>45</td><td>221</td><td>203</td><td>186</td><td>1747</td><td>651</td><td>5</td><td>711</td><td>656</td><td>-15</td><td>0</td><td>0</td><td>Unknown</td><td>null</td><td>null</td><td>null</td><td>null</td><td>null</td><td>33</td><td>3</td><td>12</td><td>45</td><td>221</td><td>203</td><td>186</td><td>651</td><td>5</td><td>656</td><td>-15</td><td>2</td><td>0</td><td>2</td><td>3</td><td>0</td><td>0</td><td>1</td><td>0</td><td>0</td><td>0</td><td>0</td><td>0</td><td>0</td></tr></tbody></table></div>"
      ]
     },
     "metadata": {
      "application/vnd.databricks.v1+output": {
       "addedWidgets": {},
       "aggData": [],
       "aggError": "",
       "aggOverflow": false,
       "aggSchema": [],
       "aggSeriesLimitReached": false,
       "aggType": "",
       "arguments": {},
       "columnCustomDisplayInfos": {},
       "data": [
        [
         2015,
         1,
         1,
         4,
         "AS",
         98,
         "N407AS",
         "ANC",
         "SEA",
         5,
         2354,
         -11,
         21,
         15,
         205,
         194,
         169,
         1448,
         404,
         4,
         430,
         408,
         -22,
         0,
         0,
         "Unknown",
         null,
         null,
         null,
         null,
         null,
         2354,
         -11,
         21,
         15,
         205,
         194,
         169,
         404,
         4,
         408,
         -22,
         2,
         0,
         2,
         3,
         0,
         0,
         0,
         0,
         0,
         0,
         0,
         0,
         0
        ],
        [
         2015,
         1,
         1,
         4,
         "AA",
         2336,
         "N3KUAA",
         "LAX",
         "PBI",
         10,
         2,
         -8,
         12,
         14,
         280,
         279,
         263,
         2330,
         737,
         4,
         750,
         741,
         -9,
         0,
         0,
         "Unknown",
         null,
         null,
         null,
         null,
         null,
         2,
         -8,
         12,
         14,
         280,
         279,
         263,
         737,
         4,
         741,
         -9,
         2,
         0,
         2,
         3,
         0,
         0,
         0,
         0,
         0,
         0,
         0,
         0,
         0
        ],
        [
         2015,
         1,
         1,
         4,
         "US",
         840,
         "N171US",
         "SFO",
         "CLT",
         20,
         18,
         -2,
         16,
         34,
         286,
         293,
         266,
         2296,
         800,
         11,
         806,
         811,
         5,
         0,
         0,
         "Unknown",
         null,
         null,
         null,
         null,
         null,
         18,
         -2,
         16,
         34,
         286,
         293,
         266,
         800,
         11,
         811,
         5,
         2,
         0,
         2,
         3,
         0,
         1,
         0,
         1,
         0,
         0,
         0,
         0,
         0
        ],
        [
         2015,
         1,
         1,
         4,
         "AA",
         258,
         "N3HYAA",
         "LAX",
         "MIA",
         20,
         15,
         -5,
         15,
         30,
         285,
         281,
         258,
         2342,
         748,
         8,
         805,
         756,
         -9,
         0,
         0,
         "Unknown",
         null,
         null,
         null,
         null,
         null,
         15,
         -5,
         15,
         30,
         285,
         281,
         258,
         748,
         8,
         756,
         -9,
         2,
         0,
         2,
         3,
         0,
         0,
         0,
         0,
         0,
         0,
         0,
         0,
         0
        ],
        [
         2015,
         1,
         1,
         4,
         "AS",
         135,
         "N527AS",
         "SEA",
         "ANC",
         25,
         24,
         -1,
         11,
         35,
         235,
         215,
         199,
         1448,
         254,
         5,
         320,
         259,
         -21,
         0,
         0,
         "Unknown",
         null,
         null,
         null,
         null,
         null,
         24,
         -1,
         11,
         35,
         235,
         215,
         199,
         254,
         5,
         259,
         -21,
         2,
         0,
         2,
         3,
         0,
         0,
         0,
         0,
         0,
         0,
         0,
         0,
         0
        ],
        [
         2015,
         1,
         1,
         4,
         "DL",
         806,
         "N3730B",
         "SFO",
         "MSP",
         25,
         20,
         -5,
         18,
         38,
         217,
         230,
         206,
         1589,
         604,
         6,
         602,
         610,
         8,
         0,
         0,
         "Unknown",
         null,
         null,
         null,
         null,
         null,
         20,
         -5,
         18,
         38,
         217,
         230,
         206,
         604,
         6,
         610,
         8,
         2,
         0,
         2,
         3,
         0,
         1,
         0,
         1,
         0,
         0,
         0,
         0,
         0
        ],
        [
         2015,
         1,
         1,
         4,
         "NK",
         612,
         "N635NK",
         "LAS",
         "MSP",
         25,
         19,
         -6,
         11,
         30,
         181,
         170,
         154,
         1299,
         504,
         5,
         526,
         509,
         -17,
         0,
         0,
         "Unknown",
         null,
         null,
         null,
         null,
         null,
         19,
         -6,
         11,
         30,
         181,
         170,
         154,
         504,
         5,
         509,
         -17,
         2,
         0,
         2,
         3,
         0,
         0,
         0,
         0,
         0,
         0,
         0,
         0,
         0
        ],
        [
         2015,
         1,
         1,
         4,
         "US",
         2013,
         "N584UW",
         "LAX",
         "CLT",
         30,
         44,
         14,
         13,
         57,
         273,
         249,
         228,
         2125,
         745,
         8,
         803,
         753,
         -10,
         0,
         0,
         "Unknown",
         null,
         null,
         null,
         null,
         null,
         44,
         14,
         13,
         57,
         273,
         249,
         228,
         745,
         8,
         753,
         -10,
         2,
         0,
         2,
         3,
         0,
         0,
         1,
         0,
         0,
         0,
         0,
         0,
         0
        ],
        [
         2015,
         1,
         1,
         4,
         "AA",
         1112,
         "N3LAAA",
         "SFO",
         "DFW",
         30,
         19,
         -11,
         17,
         36,
         195,
         193,
         173,
         1464,
         529,
         3,
         545,
         532,
         -13,
         0,
         0,
         "Unknown",
         null,
         null,
         null,
         null,
         null,
         19,
         -11,
         17,
         36,
         195,
         193,
         173,
         529,
         3,
         532,
         -13,
         2,
         0,
         2,
         3,
         0,
         0,
         0,
         0,
         0,
         0,
         0,
         0,
         0
        ],
        [
         2015,
         1,
         1,
         4,
         "DL",
         1173,
         "N826DN",
         "LAS",
         "ATL",
         30,
         33,
         3,
         12,
         45,
         221,
         203,
         186,
         1747,
         651,
         5,
         711,
         656,
         -15,
         0,
         0,
         "Unknown",
         null,
         null,
         null,
         null,
         null,
         33,
         3,
         12,
         45,
         221,
         203,
         186,
         651,
         5,
         656,
         -15,
         2,
         0,
         2,
         3,
         0,
         0,
         1,
         0,
         0,
         0,
         0,
         0,
         0
        ]
       ],
       "datasetInfos": [],
       "dbfsResultPath": null,
       "isJsonSchema": true,
       "metadata": {},
       "overflow": false,
       "plotOptions": {
        "customPlotOptions": {},
        "displayType": "table",
        "pivotAggregation": null,
        "pivotColumns": null,
        "xColumns": null,
        "yColumns": null
       },
       "removedWidgets": [],
       "schema": [
        {
         "metadata": "{}",
         "name": "YEAR",
         "type": "\"integer\""
        },
        {
         "metadata": "{}",
         "name": "MONTH",
         "type": "\"integer\""
        },
        {
         "metadata": "{}",
         "name": "DAY",
         "type": "\"integer\""
        },
        {
         "metadata": "{}",
         "name": "DAY_OF_WEEK",
         "type": "\"integer\""
        },
        {
         "metadata": "{}",
         "name": "AIRLINE",
         "type": "\"string\""
        },
        {
         "metadata": "{}",
         "name": "FLIGHT_NUMBER",
         "type": "\"integer\""
        },
        {
         "metadata": "{}",
         "name": "TAIL_NUMBER",
         "type": "\"string\""
        },
        {
         "metadata": "{}",
         "name": "ORIGIN_AIRPORT",
         "type": "\"string\""
        },
        {
         "metadata": "{}",
         "name": "DESTINATION_AIRPORT",
         "type": "\"string\""
        },
        {
         "metadata": "{}",
         "name": "SCHEDULED_DEPARTURE",
         "type": "\"integer\""
        },
        {
         "metadata": "{}",
         "name": "DEPARTURE_TIME",
         "type": "\"integer\""
        },
        {
         "metadata": "{}",
         "name": "DEPARTURE_DELAY",
         "type": "\"integer\""
        },
        {
         "metadata": "{}",
         "name": "TAXI_OUT",
         "type": "\"integer\""
        },
        {
         "metadata": "{}",
         "name": "WHEELS_OFF",
         "type": "\"integer\""
        },
        {
         "metadata": "{}",
         "name": "SCHEDULED_TIME",
         "type": "\"integer\""
        },
        {
         "metadata": "{}",
         "name": "ELAPSED_TIME",
         "type": "\"integer\""
        },
        {
         "metadata": "{}",
         "name": "AIR_TIME",
         "type": "\"integer\""
        },
        {
         "metadata": "{}",
         "name": "DISTANCE",
         "type": "\"integer\""
        },
        {
         "metadata": "{}",
         "name": "WHEELS_ON",
         "type": "\"integer\""
        },
        {
         "metadata": "{}",
         "name": "TAXI_IN",
         "type": "\"integer\""
        },
        {
         "metadata": "{}",
         "name": "SCHEDULED_ARRIVAL",
         "type": "\"integer\""
        },
        {
         "metadata": "{}",
         "name": "ARRIVAL_TIME",
         "type": "\"integer\""
        },
        {
         "metadata": "{}",
         "name": "ARRIVAL_DELAY",
         "type": "\"integer\""
        },
        {
         "metadata": "{}",
         "name": "DIVERTED",
         "type": "\"integer\""
        },
        {
         "metadata": "{}",
         "name": "CANCELLED",
         "type": "\"integer\""
        },
        {
         "metadata": "{}",
         "name": "CANCELLATION_REASON",
         "type": "\"string\""
        },
        {
         "metadata": "{}",
         "name": "AIR_SYSTEM_DELAY",
         "type": "\"integer\""
        },
        {
         "metadata": "{}",
         "name": "SECURITY_DELAY",
         "type": "\"integer\""
        },
        {
         "metadata": "{}",
         "name": "AIRLINE_DELAY",
         "type": "\"integer\""
        },
        {
         "metadata": "{}",
         "name": "LATE_AIRCRAFT_DELAY",
         "type": "\"integer\""
        },
        {
         "metadata": "{}",
         "name": "WEATHER_DELAY",
         "type": "\"integer\""
        },
        {
         "metadata": "{}",
         "name": "DEPARTURE_TIME_imputed",
         "type": "\"integer\""
        },
        {
         "metadata": "{}",
         "name": "DEPARTURE_DELAY_imputed",
         "type": "\"integer\""
        },
        {
         "metadata": "{}",
         "name": "TAXI_OUT_imputed",
         "type": "\"integer\""
        },
        {
         "metadata": "{}",
         "name": "WHEELS_OFF_imputed",
         "type": "\"integer\""
        },
        {
         "metadata": "{}",
         "name": "SCHEDULED_TIME_imputed",
         "type": "\"integer\""
        },
        {
         "metadata": "{}",
         "name": "ELAPSED_TIME_imputed",
         "type": "\"integer\""
        },
        {
         "metadata": "{}",
         "name": "AIR_TIME_imputed",
         "type": "\"integer\""
        },
        {
         "metadata": "{}",
         "name": "WHEELS_ON_imputed",
         "type": "\"integer\""
        },
        {
         "metadata": "{}",
         "name": "TAXI_IN_imputed",
         "type": "\"integer\""
        },
        {
         "metadata": "{}",
         "name": "ARRIVAL_TIME_imputed",
         "type": "\"integer\""
        },
        {
         "metadata": "{}",
         "name": "ARRIVAL_DELAY_imputed",
         "type": "\"integer\""
        },
        {
         "metadata": "{}",
         "name": "AIR_SYSTEM_DELAY_imputed",
         "type": "\"integer\""
        },
        {
         "metadata": "{}",
         "name": "SECURITY_DELAY_imputed",
         "type": "\"integer\""
        },
        {
         "metadata": "{}",
         "name": "AIRLINE_DELAY_imputed",
         "type": "\"integer\""
        },
        {
         "metadata": "{}",
         "name": "LATE_AIRCRAFT_DELAY_imputed",
         "type": "\"integer\""
        },
        {
         "metadata": "{}",
         "name": "WEATHER_DELAY_imputed",
         "type": "\"integer\""
        },
        {
         "metadata": "{}",
         "name": "WasDelayed",
         "type": "\"integer\""
        },
        {
         "metadata": "{}",
         "name": "WasDepartureDelayed",
         "type": "\"integer\""
        },
        {
         "metadata": "{}",
         "name": "WasArrivalLate",
         "type": "\"integer\""
        },
        {
         "metadata": "{}",
         "name": "AirSystemDelayOccurred",
         "type": "\"integer\""
        },
        {
         "metadata": "{}",
         "name": "SecurityDelayOccurred",
         "type": "\"integer\""
        },
        {
         "metadata": "{}",
         "name": "AirlineDelayOccurred",
         "type": "\"integer\""
        },
        {
         "metadata": "{}",
         "name": "LateAircraftDelayOccurred",
         "type": "\"integer\""
        },
        {
         "metadata": "{}",
         "name": "WeatherDelayOccurred",
         "type": "\"integer\""
        }
       ],
       "type": "table"
      }
     },
     "output_type": "display_data"
    }
   ],
   "source": [
    "# Show updated schema and a sample of the transformed data\n",
    "df.printSchema()\n",
    "display(df.limit(10))"
   ]
  },
  {
   "cell_type": "markdown",
   "metadata": {
    "application/vnd.databricks.v1+cell": {
     "cellMetadata": {},
     "inputWidgets": {},
     "nuid": "4daadf54-b72b-46c6-b8bf-1d9d4d3a92ba",
     "showTitle": false,
     "tableResultSettingsMap": {},
     "title": ""
    }
   },
   "source": [
    "Which columns had missing values, and how did you handle them?\n",
    "Answer:\n",
    "In the dataset, missing values were present in several columns, notably in CANCELLATION_REASON (categorical) and delay-related columns such as AIR_SYSTEM_DELAY, WEATHER_DELAY, and SECURITY_DELAY, which were often null for flights without delays or cancellations. To handle these missing values, numeric columns like ARRIVAL_DELAY and DEPARTURE_DELAY were imputed with their mean or a placeholder value like 0, ensuring they could be used for analysis without introducing bias. For categorical columns like CANCELLATION_REASON, missing values were replaced with a placeholder such as \"Unknown\" to retain the rows without losing context. This approach ensured the dataset remained comprehensive for analysis while addressing the missing data systematically.\n",
    "\n",
    "What new features did you create, and why?\n",
    "Answer:\n",
    "New features, such as binary indicators for delays (WasDelayed, WasDepartureDelayed), specific delay causes (AirSystemDelayOccurred, WeatherDelayOccurred), and a categorical feature for CANCELLATION_REASON, were created to simplify comparisons and analyze their frequency and impact. Aggregate metrics like average delays by airline, day, and month were added to identify patterns and trends. These enhancements improved interpretability and enabled actionable insights."
   ]
  },
  {
   "cell_type": "markdown",
   "metadata": {
    "application/vnd.databricks.v1+cell": {
     "cellMetadata": {},
     "inputWidgets": {},
     "nuid": "cf1d4cd2-051b-48aa-b2c3-970e101e7bfb",
     "showTitle": false,
     "tableResultSettingsMap": {},
     "title": ""
    }
   },
   "source": [
    "  3: Exploratory Data Analysis (EDA) using Spark \n",
    "    \n",
    "    3.1. Register DataFrame as a Temporary Table: Register the DataFrame as a temporary table to use SQL queries.\n",
    "  "
   ]
  },
  {
   "cell_type": "code",
   "execution_count": 0,
   "metadata": {
    "application/vnd.databricks.v1+cell": {
     "cellMetadata": {
      "byteLimit": 2048000,
      "rowLimit": 10000
     },
     "inputWidgets": {},
     "nuid": "53b41605-2074-479a-ab88-3ccb42833d9b",
     "showTitle": false,
     "tableResultSettingsMap": {},
     "title": ""
    }
   },
   "outputs": [],
   "source": [
    "# Register the DataFrame as a temporary table\n",
    "df.createOrReplaceTempView(\"flights\")"
   ]
  },
  {
   "cell_type": "markdown",
   "metadata": {
    "application/vnd.databricks.v1+cell": {
     "cellMetadata": {},
     "inputWidgets": {},
     "nuid": "5fa564fd-b34b-42e9-9d4e-8a62444be8f8",
     "showTitle": false,
     "tableResultSettingsMap": {},
     "title": ""
    }
   },
   "source": [
    "  3.2 SQL Queries: Perform the following analyses using Spark SQL:"
   ]
  },
  {
   "cell_type": "markdown",
   "metadata": {
    "application/vnd.databricks.v1+cell": {
     "cellMetadata": {},
     "inputWidgets": {},
     "nuid": "f1f67806-5c0a-460a-9229-0e029f021be3",
     "showTitle": false,
     "tableResultSettingsMap": {},
     "title": ""
    }
   },
   "source": [
    "  Calculate the average delay time for each airline."
   ]
  },
  {
   "cell_type": "code",
   "execution_count": 0,
   "metadata": {
    "application/vnd.databricks.v1+cell": {
     "cellMetadata": {
      "byteLimit": 2048000,
      "rowLimit": 10000
     },
     "inputWidgets": {},
     "nuid": "16d05533-a36d-4c08-b3a6-2e0d48b3d91e",
     "showTitle": false,
     "tableResultSettingsMap": {},
     "title": ""
    }
   },
   "outputs": [
    {
     "output_type": "stream",
     "name": "stdout",
     "output_type": "stream",
     "text": [
      "+-------+-------------------+\n|AIRLINE|    AvgArrivalDelay|\n+-------+-------------------+\n|     NK| 14.471799501705833|\n|     F9| 12.504706404706404|\n|     B6|  6.677860800940307|\n|     EV|  6.585378691739733|\n|     MQ|  6.457873460764516|\n|     OO|  5.845652151300072|\n|     UA|  5.431593935741549|\n|     VX|  4.737705721003135|\n|     WN| 4.3749636792570525|\n|     US| 3.7062088424131026|\n|     AA| 3.4513721447256764|\n|     HA|  2.023092805197196|\n|     DL|0.18675361236390797|\n|     AS|-0.9765630924118783|\n+-------+-------------------+\n\n"
     ]
    }
   ],
   "source": [
    "avg_delay_query = \"\"\"\n",
    "SELECT AIRLINE, AVG(ARRIVAL_DELAY) AS AvgArrivalDelay\n",
    "FROM flights\n",
    "WHERE ARRIVAL_DELAY IS NOT NULL\n",
    "GROUP BY AIRLINE\n",
    "ORDER BY AvgArrivalDelay DESC\n",
    "\"\"\"\n",
    "avg_delay_df = spark.sql(avg_delay_query)\n",
    "avg_delay_df.show()\n"
   ]
  },
  {
   "cell_type": "markdown",
   "metadata": {
    "application/vnd.databricks.v1+cell": {
     "cellMetadata": {},
     "inputWidgets": {},
     "nuid": "9a58fe92-50b4-44ed-9632-dca03aed8c2c",
     "showTitle": false,
     "tableResultSettingsMap": {},
     "title": ""
    }
   },
   "source": [
    "  Identify the top 5 airports with the most delayed departures."
   ]
  },
  {
   "cell_type": "code",
   "execution_count": 0,
   "metadata": {
    "application/vnd.databricks.v1+cell": {
     "cellMetadata": {
      "byteLimit": 2048000,
      "rowLimit": 10000
     },
     "inputWidgets": {},
     "nuid": "1baaf74d-ebdc-442c-8e89-4cd46bc81d57",
     "showTitle": false,
     "tableResultSettingsMap": {},
     "title": ""
    }
   },
   "outputs": [
    {
     "output_type": "stream",
     "name": "stdout",
     "output_type": "stream",
     "text": [
      "+--------------+---------------+\n|ORIGIN_AIRPORT|DepartureDelays|\n+--------------+---------------+\n|           ATL|         129846|\n|           ORD|         121706|\n|           DFW|          96475|\n|           DEN|          89290|\n|           LAX|          81954|\n+--------------+---------------+\n\n"
     ]
    }
   ],
   "source": [
    "top_airports_query = \"\"\"\n",
    "SELECT ORIGIN_AIRPORT, COUNT(*) AS DepartureDelays\n",
    "FROM flights\n",
    "WHERE DEPARTURE_DELAY > 0\n",
    "GROUP BY ORIGIN_AIRPORT\n",
    "ORDER BY DepartureDelays DESC\n",
    "LIMIT 5\n",
    "\"\"\"\n",
    "top_airports_df = spark.sql(top_airports_query)\n",
    "top_airports_df.show()\n"
   ]
  },
  {
   "cell_type": "markdown",
   "metadata": {
    "application/vnd.databricks.v1+cell": {
     "cellMetadata": {},
     "inputWidgets": {},
     "nuid": "d9271802-32ef-4105-ba1f-2f651789a1c5",
     "showTitle": false,
     "tableResultSettingsMap": {},
     "title": ""
    }
   },
   "source": [
    "  Determine the most common reason for flight cancellations."
   ]
  },
  {
   "cell_type": "code",
   "execution_count": 0,
   "metadata": {
    "application/vnd.databricks.v1+cell": {
     "cellMetadata": {
      "byteLimit": 2048000,
      "rowLimit": 10000
     },
     "inputWidgets": {},
     "nuid": "fbd88db6-de62-4f9f-b6a6-5505465e3af3",
     "showTitle": false,
     "tableResultSettingsMap": {},
     "title": ""
    }
   },
   "outputs": [
    {
     "output_type": "stream",
     "name": "stdout",
     "output_type": "stream",
     "text": [
      "+-------------------+-----+\n|CANCELLATION_REASON|Count|\n+-------------------+-----+\n|                  B|48851|\n|                  A|25262|\n|                  C|15749|\n|                  D|   22|\n+-------------------+-----+\n\n"
     ]
    }
   ],
   "source": [
    "cancellation_reason_query = \"\"\"\n",
    "SELECT CANCELLATION_REASON, COUNT(*) AS Count\n",
    "FROM flights\n",
    "WHERE CANCELLED = 1\n",
    "GROUP BY CANCELLATION_REASON\n",
    "ORDER BY Count DESC\n",
    "\"\"\"\n",
    "cancellation_reason_df = spark.sql(cancellation_reason_query)\n",
    "cancellation_reason_df.show()\n"
   ]
  },
  {
   "cell_type": "markdown",
   "metadata": {
    "application/vnd.databricks.v1+cell": {
     "cellMetadata": {},
     "inputWidgets": {},
     "nuid": "01124cf0-8e61-41f2-941f-30b16f1b57f3",
     "showTitle": false,
     "tableResultSettingsMap": {},
     "title": ""
    }
   },
   "source": [
    "  3.3 Visualizations"
   ]
  },
  {
   "cell_type": "markdown",
   "metadata": {
    "application/vnd.databricks.v1+cell": {
     "cellMetadata": {},
     "inputWidgets": {},
     "nuid": "e83e1913-dfaa-44cc-aa1a-3c6414724f55",
     "showTitle": false,
     "tableResultSettingsMap": {},
     "title": ""
    }
   },
   "source": [
    "  Plot the average delay by airline"
   ]
  },
  {
   "cell_type": "code",
   "execution_count": 0,
   "metadata": {
    "application/vnd.databricks.v1+cell": {
     "cellMetadata": {
      "byteLimit": 2048000,
      "rowLimit": 10000
     },
     "inputWidgets": {},
     "nuid": "fb7f9acb-c53f-4ad3-9e61-65007405357f",
     "showTitle": false,
     "tableResultSettingsMap": {},
     "title": ""
    }
   },
   "outputs": [
    {
     "output_type": "display_data",
     "data": {
      "image/png": "[encoded data removed]"
     },
     "metadata": {
      "application/vnd.databricks.v1+output": {
       "addedWidgets": {},
       "arguments": {},
       "data": "data:image/png;base64,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\n",
       "datasetInfos": [],
       "metadata": {},
       "removedWidgets": [],
       "type": "image"
      }
     },
     "output_type": "display_data"
    }
   ],
   "source": [
    "# Convert Spark DataFrame to Pandas for plotting\n",
    "avg_delay_pd = avg_delay_df.toPandas()\n",
    "\n",
    "# Plot\n",
    "plt.figure(figsize=(10, 6))\n",
    "plt.bar(avg_delay_pd['AIRLINE'], avg_delay_pd['AvgArrivalDelay'])\n",
    "plt.xlabel('Airline')\n",
    "plt.ylabel('Average Arrival Delay (minutes)')\n",
    "plt.title('Average Arrival Delay by Airline')\n",
    "plt.xticks(rotation=45)\n",
    "plt.tight_layout()\n",
    "plt.show()\n"
   ]
  },
  {
   "cell_type": "markdown",
   "metadata": {
    "application/vnd.databricks.v1+cell": {
     "cellMetadata": {},
     "inputWidgets": {},
     "nuid": "c6efbe68-8ca8-40aa-bcac-1c91706a5166",
     "showTitle": false,
     "tableResultSettingsMap": {},
     "title": ""
    }
   },
   "source": [
    "  Visualize delay patterns over days of the week"
   ]
  },
  {
   "cell_type": "code",
   "execution_count": 0,
   "metadata": {
    "application/vnd.databricks.v1+cell": {
     "cellMetadata": {
      "byteLimit": 2048000,
      "rowLimit": 10000
     },
     "inputWidgets": {},
     "nuid": "2d1cfc1a-ccd1-443d-979f-b426e04f0e67",
     "showTitle": false,
     "tableResultSettingsMap": {},
     "title": ""
    }
   },
   "outputs": [
    {
     "output_type": "display_data",
     "data": {
      "image/png": "[encoded data removed]"
     },
     "metadata": {
      "application/vnd.databricks.v1+output": {
       "addedWidgets": {},
       "arguments": {},
       "data": "data:image/png;base64,iVBORw0KGgoAAAANSUhEUgAAAjgAAAFgCAYAAAC2QAPxAAAAOXRFWHRTb2Z0d2FyZQBNYXRwbG90bGliIHZlcnNpb24zLjUuMSwgaHR0cHM6Ly9tYXRwbG90bGliLm9yZy/YYfK9AAAACXBIWXMAAAsTAAALEwEAmpwYAABYNUlEQVR4nO3dd3hUVf7H8fc3PZCQUAOEEnpvioJBFGxgQ+y6NtziNrti+619rdjdddVdFcsqIvYGVgQpIkjvvXcIJNSU8/tjbtyISRhIZm5m8nk9zzyZuTNz72duJpnvnHvOPeacQ0RERCSaxPgdQERERKSyqcARERGRqKMCR0RERKKOChwRERGJOipwREREJOqowBEREZGoowJHJEqY2R1m9p9KWM89ZvZGZWQqY/3DzezvIVjvWDP7fWWv129mdraZrTazPDPrEcTj+5nZmnBkqyyhfs9J9aQCRyKS92G23cwS/c5SWcxsiJk5M7vwcJ7vnHvQORfSD3jvw7PI+7DNM7M1ZjbSzI4K5XbDycyyvN9D8WvcaGafmNnJPkV6DLjaOZfinJt+4J1e1taVvVEzi/Nef68Syy7xtnfgsgWVvX2RilKBIxHHzLKAvoADBoVg/XGVvc4gXQFsAy4v70Gl5Qtz5nXOuRQgFegNLADGm9mJYcwQDune6+wGfAm8b2ZDfMjRHJgb7o065wqAScBxJRYfR+D3feCycWGMJhIUFTgSiS4HJgPDCRQFmFmimeWYWefiB5lZfTPbY2YNvNtnmNkM73ETzaxriceuMLNbzWwWsMv79nqbmS01s1wzm2dmZ5d4fKyZPW5mW8xsuZld7X2zjfPuTzOzl8xsvZmtNbO/m1lsWS/IzJoDxwNXAQPMrGGJ+/p5LSW3mtkG4BWvSX+Umb1hZjuBISWb+c3sczO7+oBtzDSzc7zrT3uHPXaa2TQz63uovwQXsMY5dxfwH+CREttqb2Zfmtk2M1toZheU8bpre60jm70WuU/MrIl33/lmNu2Ax99oZh+WE6uVmU3xXteHZlbHe96nZnbNAeuaVfJ3Ws7r3OCcexq4B3jEzGK855f6/jCzBO91dymxrQZmttvM6peyD2LM7G9mttLMNpnZa977J9HM8oBYYKaZLS3lucWFxUyvteXCEvfd5K1vvZldWWJ5opk9ZmarLNA69byZJZfx8sfxy2KmL4Hf84HLxnnrLu9vrLGZvev9rpeb2bWlbdDM4s3sLe+xCWXkEjk455wuukTUBVgC/AU4EsgHMrzlLwMPlHjcX4HR3vUewCagF4EPjCuAFUCid/8KYAbQFEj2lp0PNCbwReBCYBfQyLvvT8A8oAlQG/iKQItSnHf/+8ALQE2gATAF+GM5r+lOYIp3fTZwU4n7+gEFBD5YEoFkAh+2+cBgL1/xsje851wOTCixjo5ATonXeylQF4gDbgI2AEnefT+vp5Sc/YA1pSw/ASjyXm9NYDVwpbf+HsAWoKP32OHA373rdYFzgRoEWoTeAT7w7ksk0KLVocR2pgPnlpFtLLAW6OxleLfE/rgA+KHEY7sBW4GEUtaTVfJ3WWJ5S295hyDeH88Bj5R47nXAx2Xk/i2B93RLIAV4D3i9xP0OaF3Oe+cX95d4v9wHxAOnAbuB2t79TwIfAXW8ff4x8FAZ6z7e+x3EAPWAld7vamOJZQ5oRjl/Y95jpwF3AQnea10GDCj5niPwPv7Ue4/E+v2/RpfIvvgeQBddDuUCHEvgg72ed3sBcIN3/SRgaYnHTgAu967/C7j/gHUtBI73rq8AfnuQbc8AzvKuf0OJgsXbtiPwgZ4B7MMrlLz7Lwa+LWfdi4Hrveu3AzNL3NcP2I9XgHjL7gHGHbCOe/jfB3oqgQ/c5t7tB4CXy9n+dqDbgesp5XH9KL3Aae+9/kwCH/bjD7j/BeBu7/pwvAKnlPV0B7aXuP0vvKIV6OTlTCzjuWOBh0vc7ujtt1ggyXtuG+++x4DnylhPFqUXOEne8j5BvD96AasA825PBS4o43lfA38pcbsdgfd4cbF8OAXOnpL5CRQevQHz3hetStx3DLC8jHUnAXsJFIRnA//1lk8usWz5wf7GivfHAffdDrxS4j33EfAd8EzxftNFl4pcdIhKIs0VwBfOuS3e7Te9ZQDfAjXMrJcF+ul0J9CSAoF+DDd5Tec5ZpZDoLWmcYl1ry65ITO7vERzew6BloF63t2ND3h8yevNCXxzXl/iuS8QaMn5FTPrA7QARpR4TV3MrHuJh212zu094KmrKYNzLpfAN+GLvEUXA/8tsc2bzWy+me3w8qWVeG2HI5PAB20Ogdff64B9fQnQ8MAnmVkNM3vBOzyzk8ChjvQSh/NeBX5jZgZcBox0zu0rJ0fJfbKSwO+hnrfv3gYu9Q4xXQy8fhivEQItGuW+P5xzPxBoNelnZu2B1gQ+wEvT2MtaMndxoXy4trpAH5piuwm0DtUn0AIzrUTu0d7yX/H22xQCh6SOA8Z7d31fYlnxYbLy/saaA40PuO+OA15jb6ArgSLVVeC1iwCBPyKRiOD1E7gAiLVAXxQINH+nm1k359xMMxtJ4MNrI/CJ90EPgQ++B5xzD5SziZ//qVqgT8y/gROBSc65QjObQeAbMMB6AoenijUtcX01gRacegd8yJTlCm+9MwKf479YPuPAbKXlLcNbwN1eP40kAgUgFuhvcwuB1zbXOVdkZtv532s7HGcDPznndpnZauA751wwo45uItBi0cs5t8Er6qYXZ3HOTTaz/QT6efzGu5Sn5O+hGYGWkOJi+FUCRc33wG7n3KSgXtn/nE2gJWRhEO+P4u1dSuDw36hSCtRi6wgUACVzFxB4D1e2LQRadzo559YG+ZzifjgtCPS1gkChc6m37F/esjL/xsysuJWoTTnb+QKYBXxtZv2cc6F4/VKNqAVHIslgoJDAoYfu3qUDgX+2xSOP3iRwiOQS73qxfwN/8lp3zMxqmtnpZpZaxrZqEiggNgN4nTQ7l7h/JHCdmWWaWTpwa/Edzrn1BP5ZP25mtbxOpK3M7PgDN2JmSQSKtqtKvKbuwDUEWi4q8iXkMwIfnPcBbzvnirzlqQQ+QDcDcWZ2F1DrUFfu7cdMM7sb+D2Bb+QAnwBtzewyr8NovJkdZWYdSllNKoEP3BwLdAi+u5THvAb8A8h3zn1/kFiXmllHM6tB4HWPcs4VAngFTRHwOIfQemNmGRbosH03cLu3Hw/2/oBAn5KzCRQCr5WzibeAG8yshZmlAA8S+H0FUxxDoBBqGcwDvez/Bp60/3W+zzSzAeU8bRzQn0DxOM9bNoHAobDu/K8Fp7y/sSlArgU6yidboJN+Zzvg9ALOuUcJ/N1+bWYVaVEUUYEjEeUKAsfsV7nAyJYNzrkNBD78LjGzOO/QwC4CzeKfFz/ROTcV+IP32O0EOnUOKWtDzrl5BD4IJxH4AOlC4J96sX/zv2+c0wkUEwUECjAIFFwJBD4QtgOjgEalbGowgQ/41w54TS8TaGEdGNSeKf017CPQYfUkflnsjSFwWGIRgcMheynncFcpGltgdE8e8COBfdPPOfeFt91c4BQCh8fWEWjBKO4gfaCnCHQs3UKgX8foUh7zOoHiIZgTwb1OoI/PBgKtVgeO1HnNyxvMunLMbBeBTt+nAec7516GoN4fOOdWAz8RKITGU7aXvdzjgOUEfh/XlPP4A90DvOod+il1tNoBbiXw/p/sHRb8ikArWlkmEjiE+UPxoSPvEPFmYJNzbrG3rMy/Ma/IPINAQbScwO/7P956f8E5dz/wAfCVV/SKHJbiDnAiUgFmdirwvHOu+UEfLIfEOzS5CTii+MO0Auu6HLjKOXdspYQ7+PZeJnDeoL+FY3si8j/qgyNyGLwP3f4EWnEyCBy+eL/cJ8nh+jPwYyUUNzUInF7guUpJdfDtZQHnEBg+LSJhpkNUIofHgHsJNMVPB+YTOMeHVCIzW0HgHDI3VXA9AwgcUtnILw/XhYSZ3Q/MAYY555aHensi8ms6RCUiIiJRRy04IiIiEnWqVB+cevXquaysrJCtf9euXdSsWTNk649m2ncVo/1XMdp/FaP9VzHafxUT6v03bdq0Lc65X52sskoVOFlZWUydOjVk6x87diz9+vUL2fqjmfZdxWj/VYz2X8Vo/1WM9l/FhHr/mdnK0pbrEJWIiIhEHRU4IiIiEnVU4IiIiEjUUYEjIiIiUUcFjoiIiEQdFTgiIiISdVTgiIiISNRRgSMiIiJRRwWOiIiIRJ2QFjhmlm5mo8xsgZnNN7NjQrm9snwwfS19Hv6GIaN30efhb/hg+lo/YoiIiEiYhHqqhqeB0c6588wsAagR4u39ygfT13L7e7PZk18IwNqcPdz+3mwABvfIDHccERERCYOQteCYWRpwHPASgHNuv3MuJ1TbK8uwMQt/Lm6K7ckvZNiYheGOIiIiImFizrnQrNisO/AiMA/oBkwDrnPO7TrgcVcBVwFkZGQcOWLEiErNMWT0rjLvGz5Qs8MGKy8vj5SUFL9jRCztv4rR/qsY7b+K0f6rmFDvv/79+09zzvU8cHkoC5yewGSgj3PuBzN7GtjpnLuzrOf07NnTVfZs4n0e/oa1OXt+tTwzPZkJt51QqduKZppNt2K0/ypG+69itP8qRvuvYsIwm3ipBU4oOxmvAdY4537wbo8Cjgjh9ko1dEA7kuNjf7EsLsYYOqBduKOIiIhImISswHHObQBWm1lxJXEigcNVYTW4RyYPndOFzPRkAJLjYykscjSvG/b+ziIiIhImoT4PzjXAf81sFtAdeDDE2yvV4B6ZTLjtBIYPrMnkO06kcXoy142YQd6+Aj/iiIiISIiFtMBxzs1wzvV0znV1zg12zm0P5faCkZYcz5MXdmfN9t3c89Fcv+OIiIhICFTLMxkf3aIOf+3fmlHT1vDJrHV+xxEREZFKVi0LHIBrT2xD96bp3PHe7FJHWYmIiEjkqrYFTnxsDE9f1J3CIseNb8+gsCg0w+VFREQk/KptgQPQvG5N7hnUiR+Wb+OFcUv9jiMiIiKVpFoXOADnHdmE07s24okvFjFzdY7fcURERKQSVPsCx8x4cHAX6qcmcv3bM9iloeMiIiIRr9oXOABpNQJDx1ds3cX9n4T9XIQiIiJSyVTgeHq3rMufj2/FiB9X8/ns9X7HERERkQpQgVPC9Se1pWuTNG57bzbrd2jouIiISKRSgVNCQlwMT13Ynf0FRdw0ciZFGjouIiISkVTgHKBl/RTuGdSRiUu38u/xy/yOIyIiIodBBU4pLujZlIGdGvLYFwuZs3aH33FERETkEKnAKYWZ8dA5XahbM5FrR0xnz/5CvyOJVEsfTF9Ln4e/YcjoXfR5+Bs+mL7W70giEiFU4JShds0EnrigG8u37OL+TzV0XCTcPpi+lttLzBW3NmcPt783W0WOiARFBU45slvX46q+LXnzh1V8MXeD33FEqpVhYxayJ/+Xrad78gsZNmahT4lEJJKowDmIm05pR6fGtbj13Vls2rnX7zgi1ca6nNJP1VDWchGRklTgHERCXAxPX9SDPfmF3PSOho6LhEujtKRSl6ckxlFQWBTmNCISaVTgBKF1gxTuPKMj4xdv4eUJy/2OI1IttKpf81fLYs3I3VfAhS9OZvW23T6kEpFIoQInSL85uhknd8zg0dELmbdup99xRKLa94u3MH7JVo5rU4/M9GQAMtOTefyCbjx9UXcWbcjltGfG8/HMdT4nFZGqSgVOkMyMR87tSlqNeK4bMZ29+Ro6LhIKO/bkM3TUTFrVr8mLl/dkwm0nMHxgTSbcdgKDe2RyVvdMPruuL60bpHDNW9MZ+s5Mdu0r8Du2iFQxKnAOQZ2aCTx+fjcWb8rjwc/m+x1HJCrd+9FcNuXu44kLupMUH1vqY5rWqcHIPx7D1f1bM+qnNZz57Pc6KaeI/IIKnEN0XNv6/O7YFrw2aSVfz9/odxyRqDJ6znrem76Wv/ZvTbem6eU+Nj42hpsHtOO/v+/F7v2FnP3cBP4zfpkGAogIoALnsNwysB3tG6Zyy6hZbMrV0HGRyrA5dx93vD+Hzpm1uOaE1kE/L7tVPT6/ri/92jXg75/OZ8jwH9mcuy+ESUUkEqjAOQyJcbE8c3EP8vYVMPSdWTinb4wiFeGc4/b3ZpO3r4AnL+hOfOyh/WuqXTOBFy87kvsHd+aHZVs59elxjF24KURpRSQSqMA5TG0zUvm/0zvw3aLNvDpxhd9xRCLaqGlr+Gr+Rm4Z0I42GamHtQ4z47Lezfno6mOpWzORIa/8yP2fzGNfgQYEiFRHKnAq4LLezTmhfQMe/HwBCzZo6LjI4VizfTf3fjyPXi3q8Ns+LSq8vnYNU/nw6j5cfkxzXvp+OWf/cyJLNuVVQlIRiSQqcCrAzHj0vK7USorjurdmaOi4yCEqKnLc/M5MnHM8dn43YmKsUtabFB/LfWd15t+X92T9jj2c+ez3vP3jKh1OFqlGVOBUUL2URIad342FG3N5ZPQCv+OIRJThE1cwedk27jqzI03r1Kj09Z/cMYPPrzuO7k3TufXd2Vz95nR27Mmv9O2ISNWjAqcS9G/XgCHZWbwyYYU6NooEacmmPB4ZvYAT2zfggp5NQ7adhmlJvPH7XtwysB1j5m7gtKfHM3XFtpBtT0SqBhU4leS2U9vTLiOVm9+ZxZY8DVEVKU9+YRE3jpxBjYRYHjq3C2aVc2iqLLExxl/6tWbUn7OJjTEueGEST321SJN2ikQxFTiVJCk+lqcv7s7OvfncOkpDx0XK89y3S5m1ZgcPnN2FBqmlzxoeCt2bpvPptcdyVvdMnvpqMRf/ezJrc/aEbfsiEj4qcCpR+4a1uP3U9ny9YBNvTF7pdxyRKmn2mh08+81iBndvzGldGoV9+6lJ8Tx5YXeeuKAb89bt5NSnxvHZ7PVhzyEioaUCp5INyc7i+Lb1+fun81m8MdfvOCJVyt78Qm4YOYN6KYncO6izr1nOOaIJn17blxb1avKX//7E7e/NYvd+TdopEi1U4FQyM2PY+V1JSYzj2hEzdJIxkRIeG7OQJZvyePS8rqTViPc7Dln1avLOn7L50/GtGPHjas589nvmrdM5rUSigQqcEGiQmsSj53Vl/vqdDBu90O84IlXC5GVbeWnCci7r3Zzj2tb3O87PEuJiuO3U9rzxu17k7i1g8D8n8PL3y9WPTiTCqcAJkRM7ZHBZ7+b85/vljF+82e84Ir7K3ZvPze/MpHmdGtx+Wnu/45SqT+vApJ1929Tjvk/m8dvhP2pEpEgEU4ETQnec1oHWDVK4aeRMtu3a73ccEd/8/ZP5rMvZw+MXdKNGQpzfccpUNyWR/1zRk3sHdWLC0q2c+vR4fUERiVAqcEIoOSGWpy/qTs7ufG59V0PHpXr6at5G3p66mj8e34ojm9fxO85BmRlXZGfx4V/7kJYcz2UvTeGhz+azv0DnzBGJJCpwQqxT4zRuGdiOL+dt5K0pq/2OIxJW23bt57b3ZtO+YSrXn9TG7ziHpEOjWnx89bH8plczXhi3jHP/NZHlW3b5HUtEgqQCJwx+26eFd1x/rmY1lmrDOcffPpjNjj37efLC7iTGxfod6ZAlJ8Ty4NldeP7SI1i1bTenPzOed6auVmusSARQgRMGMTHGY+d3Izk+luvfnq6mbqkWPpq5js9mb+CGk9vSoVEtv+NUyMDOjRh9fV+6ZKYxdNQsrh0xg517NWmnSFWmAidMMmol8fC5XZmzdiePf6mh4xLd1u/Yw50fzOHI5rX543Gt/I5TKRqlJfPmH3pz08lt+Wz2ek57ejw/rdrudywRKYMKnDAa0KkhFx/djBfHLWPiki1+xxEJCecct4yaRX6h4/HzuxEbE9qJNMMpNsa45sQ2jPzjMQCc//wk/vHNYgqLdMhKpKpRgRNmd57RgRb1anLjyJls19BxiUJv/LCK8Yu3cMfpHciqV9PvOCFxZPPafHZdX07r0ojHvljEJf+ZzPodmrRTpCpRgRNmNRLieOaiHmzdtY873p+tzooSVZZv2cWDn87nuLb1ubRXM7/jhFStpHieuag7w87ryqw1Ozj16fGMmbvB71gi4lGB44POmWncdEo7Pp+zgXemrvE7jkilKCxy3DRyBvGxxqPndsUseg5NlcXMOL9nUz655lia1E7mj69P4//en83efM1BJ+I3FTg+uapvS7Jb1eWej+fq3BoSFV4Yt5SfVuVw/+DONExL8jtOWLWsn8J7f+7DH/q24L8/rGLQP75nwQZN2iniJxU4PomJMR6/oBvxsTFcP2I6+YUaOi6Ra966nTz55SJO79KIQd0a+x3HFwlxMfzf6R159bdHs21XPoP+MYHXJq3QYWgRnxy0wDGzGDPrYWanm9kJZtYgHMGqg0ZpyTx8ThdmrtnBU18t8juOyGHZV1DIjSNnkJacwP2DO1eLQ1PlOb5tfUZf35fsVnW568O5/OG1aZqLTsQHZRY4ZtbKzF4ElgAPAxcDfwG+MrPJZnalmakFqIJO7dKIC3s25bmxS/lh2Va/44gcsqe+WsyCDbk8cm4X6tRM8DtOlVAvJZGXrziKO8/oyLhFmzn16XE6NYRImJVXoPwdeANo5Zwb4Jy71Dl3nnOuKzAISAMuC0fIaHfXmR1pXqcGN7w9gx27dXZUiRzTVm7jhe+WctFRTTmxQ4bfcaqUmBjjd8e24P2/ZlMzMY5LXvqBR0Yv0OFokTAps8Bxzl3snBvnSjmA7Jzb5Jx7yjn3amjjVQ81E+N4+qIebMrdxx0faOi4RIZd+wq4ceRMGqcn87czOvodp8rq1DiNT645lgt7NuVfY5dy3vOTWLlVAwtEQi2YPjjnm1mqd/1OM3vPzI4IfbTqpVvTdG44uS2fzlrPez+t9TuOyEE99Pl8Vm3bzWPndyMlMc7vOFVajYQ4Hj63K89dcgTLN+dx+jPf8/50nSJCJJSC6UNzp3Mu18yOBU4EXgL+FdpY1dOfjm/F0S3qcNeHc/QNT6q07xZt5o3Jq/j9sS3o3bKu33EixmldGvH59cfRoVEqN7w9kxvenkGuJu0UCYlgCpziM1adDrzonPsUCKonoZmtMLPZZjbDzKYebsjqIjbGePLC7sTGGNeNmKFj9VIl7didzy2jZtKmQQo3ndLO7zgRJzM9mbf+0JvrT2rDhzPWcvoz3zNjdY7fsUSiTjAFzlozewG4EPjMzBKDfF6x/s657s65noeVsJrJTE/mwXO6MGN1Ds9+s8TvOCK/ctdHc9iat58nLuhOUnys33EiUlxsDNef1Ja3/3gMhUWO8/41kefGLqFIk3aKVJpgCpULgDHAAOdcDlAHGBrKUNXdGV0bc+4RTfjHN4v5ccU2v+OI/OzTWev5cMY6rj2xDV2apPkdJ+IdlVWHz67tyymdMnh09EIue/kHNu7c63cskahw0ALHObcb2AQc6y0qABYHuX4HfGFm08zsqsOLWD3de1YnmtSuwfUjZrBTx+ilCti0cy9/+2A23Zqk8Zd+rfyOEzXSasTzz98cwcPndOGnlTkMfGocX83b6HcskYhnBxuSbGZ3Az2Bds65tmbWGHjHOdfnoCs3y3TOrfXOfvwlcI1zbtwBj7kKuAogIyPjyBEjRhzmSzm4vLw8UlJSQrb+yrYkp5AHf9hLr4ax/LGbv3P7RNq+q2oiff8553jqp33M21rIvdnJNE4J7zk+I33/BWtdXhHPz9zHqtwiTmwWx4XtEkiIrfiZoavL/gsV7b+KCfX+69+//7TSusEEM7bzbKAH8BOAc25d8bDxg3HOrfV+bjKz94GjgXEHPOZF4EWAnj17un79+gWz6sMyduxYQrn+ytYP2J26mCe+XMSFx7VhcI9M37JE2r6raiJ9/42YsoqZm2dz1xkd+c2xLcK+/Ujff4fi3IGFPPL5Ql6esJy1+5N59uIetMkI6l9umarT/gsF7b+K8Wv/BfM1bL93sj8HYGY1g1mxmdUscf6cmsApwJzDDVpd/aVfK3o2r82dH8xh9bbdfseRamj1tt3c/8k8jmlZlyHZWX7HiXqJcbHcdWZHXhlyFJtz93HGs9/zxuSVOgGoyCEKpsAZ6Y2iSjezPwBfAf8J4nkZwPdmNhOYAnzqnBt9+FGrp7jYGJ68sDsAN7w9gwINHZcwKixy3DRyJjFmPHZBN2JiqvdEmuHUv30DPr++L0e3qMPfPpjDn96YRs5uTdopEqxgOhk/BowC3gXaAXc5554J4nnLnHPdvEsn59wDFY9bPTWtU4O/n92ZqSu3889vl/odR6qRl79fzpQV27jrzI5kpif7HafaaZCaxKtXHs3/ndaBbxZs4tSnxzNZk/KKBCWYqRoecc596Zwb6py72Tn3pZk9Eo5w8j9ndc9kcPfGPPPNYqat3O53HKkGFm3MZdgXCzm5YwbnHdnE7zjVVkyM8YfjWvLen/uQFB/Lxf+ezONfLFRrrshBBHOI6uRSlp1a2UHk4O4b3JlGaUlc//Z0nd5dQiq/sIgbR84gNTGOh87pgpkOTfmtS5PApJ3nHdGEZ79ZwgUvTFK/PJFylFngmNmfzWw20M7MZpW4LAdmhS+iFKuVFM9TF3Zn7fY93P3RXL/jSBR79pslzFm7kwfO7kK9lES/44inZmIcw87vxjMX92DxxjxOe3o8H81c53cskSqpvBacN4EzgY+8n8WXI51zl4Yhm5SiZ1Ydrj6hDe/9tFb/2CQkZqzO4Z/fLuGcIzIZ2Lmh33GkFIO6Neaz6/rSJiOFa9+azs3vzGTXvgK/Y4lUKWUWOM65Hc65FcCtBIaIF19SzKxZeOJJaa49oTU9mqXzf+/PZm3OHr/jSBTZm1/IjSNnkJGayN1ndvI7jpSjaZ0ajPzjMVxzQmve/WkNZzz7PbPX7PA7lkiVEUwfnE+BT7yfXwPLgM9DGUrKFxcbw9MX9qCoyHHDiBkUaoI+qSSPjF7Ass27GHZ+N9KS4/2OIwcRFxvDTae0460/9GZvfiHn/GsCL45bqkk7RQhumHgX51xX72cbAmcjnhT6aFKeZnVrcN9ZnZmyYhvPf6eh41JxE5ds4ZUJKxiSnUWf1vX8jiOHoHfLunx+XV9OaN+ABz9bwBWvTGFTribtlOotmKkafsE595OZ9QpFGDk05xyRydhFm3nyy0X0aV2P7k3T/Y4kEWrn3nxufmcmLevV5NaB7f2OI4chvUYCz196JG9OWcV9H8/j1KfGc+4RmXw6ewNrc/aQOfkbhg5o5+uULyLhdNACx8xuLHEzBjgCUO/WKsDM+Pvgzvy0cjvXj5jOp9f2pWbiIdesItz38Tw27NzLu3/OJjkh1u84cpjMjEt6NeforDpc/tIPvDh++c/3rc3Zw+3vzQZQkSPVQjB9cFJLXBIJ9MU5K5ShJHhpyfE8cUE3Vm3bzb0fa+i4HLoxczcwatoa/tq/NT2a1fY7jlSCNhmppZ67aE9+IcPGLPQhkUj4HfTrvnPu3nAEkcPXq2Vd/tKvNf/4dgn92jXgtC6N/I4kEWJL3j7ueG82nRrX4poT2vgdRyrR+h2l98FZp5GXUk0Ec4iqLXAzkFXy8c65E0IXSw7VdSe1YfySLdz+3my6N02nseYNkoNwzvF/788md28Bb/6hOwlxwTToSqRonJ5c6mkk9L9Bqotg/qO9A0wH/gYMLXGRKiQ+NoanL+z+8yn2NXRcDua9n9YyZu5Gbh7QlnYNU/2OI5Vs6IB2JMf/sj9VUnwMQwe08ymRSHgFU+AUOOf+5Zyb4pybVnwJeTI5ZFn1anLPoE5MXraNf49f5nccqcLW5ezhno/mcnRWHX53bEu/40gIDO6RyUPndPnFLPBndWusDsZSbQRT4HxsZn8xs0ZmVqf4EvJkcljOP7IJp3VpyGNjFuqsplKqoiLH0FEzKXSOx87vRmyMJtKMVoN7ZDLhthN4ZUANOjSqxcw1O3BOrbtSPQRT4FxB4JDURGCad5kaylBy+MyMB8/uQv3URK4bMZ3d+zU/jfzSa5NWMGHJVu48oyPN6tbwO46EgZlxZXYWCzbkMnnZNr/jiIRFMGcyblHKRW3aVVh6jQQev6Aby7fu4v5P5vsdR6qQpZvzeHj0Avq1q89FRzX1O46E0aDujaldI57hE5cf/MEiUaDMAsfMTvB+nlPaJXwR5XBkt6rHH49rxVtTVjF6zga/40gVUFBYxI0jZ5IUH8uj53Yt9TwpEr2S4mO5+OhmfDlvI6u37fY7jkjIldeCc7z388xSLmeEOJdUghtPbkuXzDRue28WG3dqXprq7l9jlzJzdQ73n9WZBrWS/I4jPri0d3PMjDcmr/Q7ikjIlVngOOfu9n5eWcrlt+GLKIcrIS6Gpy7qzr78Im4aOVMzDFdjc9bu4OmvF3Nmt8ac2a2x33HEJ43TkxnYqSFvTVml/nkS9Q7aB8fM0s3sWjN7wsyeKb6EI5xUXKv6Kdx1Zke+X7KFl77XsffqaG9+ITeOnEGdmgncf1Ynv+OIz4b0yWLn3gI+mK4pBSW6BTOK6jMCZzGezf9GUek8OBHkoqOaMqBTBo+OWcDcdRo6Xt088eUiFm3M45HzupJeI8HvOOKzns1r06lxLYZPXK4h4xLVgilwkpxzNzrnXnHOvVp8CXkyqTRmxsPndKVOzQSuGzGDPfsL/Y4kYTJleeCkj7/p1Yz+7Rr4HUeqADNjSHYWizbmMWnpVr/jiIRMMAXO62b2B53oL7LVrpnA4+d3Z8mmPB74bJ7fcSQM8vYVcNM7M2hauwb/d1oHv+NIFXJmt8bUqZnAKxNX+B1FJGSCKXD2A8OASehEfxHt2Db1uOq4lrwxeRVfzdvodxwJsQc+nc+a7Xt4/IJu1Ew86Ly6Uo0kxcfym6Ob8dV8DRmX6BVMgXMT0No5l6UT/UW+m05pS8dGtbjl3VlsytXQ8Wj17YJNvDVlFVcd15KjstTgKr92ae/mxJjx2qQVfkcRCYlgCpwlgEr8KJEYF8szF3dn9/4Cbn5nloaOR6Htu/Zzy7uzaJeRyo0nt/U7jlRRDdOSOLVzQ0b8uJpd+zRkXKJPMAXOLmCGmb2gYeLRoXWDVP52ekfGLdrMcB2Djzp3fjiHnN37eeLCbiTGxfodR6qwK/tkkbu3gPenr/U7ikilC6bA+QB4gF9Otqlh4hHukl7NOKlDAx7+fAHz1+/0O45Uko9mruOTWeu5/qS2dGqc5nccqeKOaFabLplpDJ+4QkPGJeoEM9nmq6VdwhFOQsfMeOTcrqTViOe6EdPZm6+h45Fu48693PnBHHo0S+ePx6mbnBxc8ZDxJZvymLBEQ8YlupQ32ebHZnammcWXcl9LM7vPzDRlQwSrm5LIY+d3Y9HGPB7+fIHfcaQCnHPcMmoW+woKeeKC7sTFBtM4KwJndGtEvZQEzTIuUae8/4J/APoCC8zsRzP7zMy+MbPlwAvANOfcy2FJKSFzfNv6/LZPC4ZPXMG3Czb5HUcO05tTVvHdos3ccVoHWtSr6XcciSCJcYEh418v2MTKrbv8jiNSacqbbHODc+4W51wr4HzgfuBGoJNz7mTn3IfhCimhdcvAdrRvmMrQUTPZkrfP7zhyiFZu3cUDn87n2Nb1uLRXc7/jSAS6pHdzYs14bZJmGZfoEVQ7tnNuhXNuknNuhnNOQ8ajTFJ8LM9c3IPcvQUMfWemOhtGkMIix00jZxIbYzx6XldiYszvSBKBMmolcVqXRozUkHGJIjpQLwC0zUjljtM68O3Czbw+Wd/iIsW/xy9j6srt3HdWJxqnJ/sdRyLYkD5Z5O4r4L2f1vgdRaRSqMCRn11+THP6t6vPA5/OZ9HGXL/jyEEs2LCTJ75YxMBODRncPdPvOBLhejRNp1uTwJBxnQBUosFBCxxvJJUKoWrAzHj0vG6kJsVx7VsaOl6V7S8o4oa3Z1IrOY4Hzu6MmQ5NScWYGUP6ZLF08y6+X7LF7zgiFRZM4XIhsNjMHjWz9qEOJP6qn5rIsPO6sWBDLsPGLPQ7jpTh6a8XMX/9Th46pyt1UxL9jiNR4rQujaiXkqgznEtUCOZEf5cCPYClwHAzm2RmV5lZasjTiS/6t2/AFcc056XvlzNu0Wa/48gBflq1nX+NXcr5Rzbh5I4ZfseRKJIYF8slvZrxzYJNLN+iIeMS2YIdRbUTGAWMABoBZwM/mdk1IcwmPrr9tA60zUjhpndmslVDx6uM3fsLuGnkTBqlJXPXmR39jiNR6JJezYiP1SzjEvmC6YMzyMzeB8YC8cDRzrlTgW7ATaGNJ35Jio/l6Yt6sC1vH30e/oYho3fR5+Fv+ECT8vnq4c8XsHzLLh47vxupSb86ybhIhTWolcTpXRrxztQ15GnIuESwYFpwzgWedM51cc4Nc85tAvDOh/O7kKYTXy3ckEtMjLG3oAiAtTl7uP292SpyfDJ+8WZem7SS3/ZpwTGt6vodR6LYkD4tyNtXwLvTNGRcIlcwfXCucM6NK+O+rys/klQVw8YsJL/wl8NF9+QX8shozVsVbjt25zP0nVm0ql+TWwa28zuORLnuTdPp3jSdVzVkXCJYMIeoentzUeWZ2X4zKzSzneEIJ/5al7On1OXrd+xlyCtTGDFllfrnhMk9H89lc94+nrywO0nxsX7HkWrgyj5ZLNuyi3GLNdBAIlMwh6j+AVwMLAaSgd8D/wxlKKkayjozbkpiLEs25XHbe7M56oGvuPCFSbwyYXmZBZFUzOez1/P+9LVc3b81XZuk+x1HqolTOzeifqqGjEvkCnYU1RIg1jlX6Jx7BRgY2lhSFQwd0I7kA1oLkuNj+fvgLoy/pT+fXnssV/dvzfbd+7n343lkP/wNZ/3je54bu4Rlm/N8Sh1dNuXu5Y73Z9MlM42rT2jtdxypRhLiYri0V3PGLtysv2eJSHFBPGa3mSUAM8zsUWA9muKhWhjcI3D6/2FjFrI2Zw+Z6ckMHdDu5+WdGqfRqXEaN57SjqWb8xgzdwNj5mzg0dELeXT0QtpmpDCwU0MGdG5Ix0a1dLbdQ+Sc4473ZrNrfyFPXNCN+Fj92Ul4/aZXM/7x7WJem7SSewZ18juOyCEJpsC5DIgFrgZuAJoSGFkl1cDgHpkM7pHJ2LFj6devX5mPa1U/hb/0a81f+rVmbc4evpi7gdFzNvCPb5fwzDdLaFonmYGdGjKwc0N6NK2tWa+D8M60NXw1fxN/O70DbTJ0Xk0Jv/qpiZzZtTHvTF3NTae01akJJKIctMBxzhVPLb0HuDe0cSQaZKYnc2WfFlzZpwVb8vbx1byNjJ67geETV/Dv8ctpkJrIKZ0yGNipEb1a1lHLRClWb9vNfR/Po1eLOvy2Twu/40g1dkV2Fu9NX8uoaWu4Uu9FiSBlFjhmNhsoc3ygc65rSBJJVKmXkshFRzfjoqObsXNvPt8u2MToORt4d9pa3pi8irTkeE7qkMHAzg3p26aeRggBRUWOoaNmAvDY+d3U2iW+6tY0nSOaBYaMX3FMlt6PEjHKa8E5I2wppFqolRTPWd0zOat7Jnv2FzJu8WbGzNnAF/M28O5Pa6iREEv/dg0Y0Lkh/dvVr7bN4a9MXMHkZdt49NyuNK1Tw+84Igzp04Jr35rOd4s20799A7/jiASlzAKnxKEpzKw50MY595WZJZf3PJFgJCfEMqBTQwZ0asj+giImL9vK6Lkb+GLuRj6dvZ6E2BiObVOPgZ0aclLHDOrUTPA7clgs2ZTLI6MXcFKHBpzfs4nfcUQAOLVzQzJqJfLKxBUqcCRiHLRQMbM/AFcBdYBWQBPgeeDE0EaT6iIhLobj2tbnuLb1uf+szvy0ajuj5wQ6KX+zYBMx70GvFnUZ2Lkhp3TKoFFa6efniXT5hUXcOHImNRNiefCcLhp1JlVGfGxgyPjjXy5iyaY8WjdI8TuSyEEF07vzr0AfYCeAc24xoBJeQiI2xjgqqw53ntGR72/tzyfXHMtf+rVmc94+7v5oLsc89A2D/zmB579byootu/yOW6n++e0SZq3ZwYNnd6FBapLfcUR+4eJezUiIjdEs4xIxgjnUtM85t7/426SZxVFO52ORymJmdM5Mo3NmGjcPaMeSTbmMmbuR0XM28PDnC3j48wW0b5jKAG/4efuGqRHb6jFrTQ7PfrOEwd0bc2qXRn7HEfmVeimJnNmtMaOmreHmAe2oVU37yEnkCKbA+c7M7gCSzexk4C/Ax8FuwMxiganAWuecOi7LYWvdIJXWDVL5a//WrNm+mzFzNzJmzgae+WYxT3+9mOZ1a/x8YsHuTdIjZrTH3vxCbhw5k/opidw7qLPfcUTKNCQ7i3d/WsM7U9fwu2M1ZFyqtmAKnNuA3wGzgT8CnwH/OYRtXAfMB2odcjqRMjSpXYPfHduC3x3bgs25+/jSO9fOyxOW88K4ZWTUSgy07HRqyNEt6hBXhc+1M2zMQpZsyuP13x1NWg19K5aqq0uTNHo2r82rE1cwJDuL2Aj5EiHVUzAn+isysw+AD5xzhzStrJk1AU4HHgBuPKyEIgdRPzWR3/Rqxm96NWPHnv+da2fk1NW8NmkltWv871w7fVpXrXPtTFq6lZe+X85lvZvTt019v+OIHNSQPllc/eZ0xi7cxIkdMvyOI1Imc6707jQW6MxwN4EpGoq//hYCzzrn7gtq5WajgIeAVODm0g5RmdlVBEZpkZGRceSIESMO9TUELS8vj5QU9f4/HJG47/YVOGZvKWTaxgJmbC5kTwEkxULX+rH0zIijS/1YkuPC8w20tP23p8Dxt+/3EBcD92UnkximLJEoEt9/VUll7r+CIsfQ7/bQOMUYelR0jmg8kN5/h2fiunzeXZTP1r1F1E2K4dy28WQ3rvxW6v79+09zzvU8cHl5LTg3EBg9dZRzbjmAmbUE/mVmNzjnnixvg2Z2BrDJOTfNzPqV9Tjn3IvAiwA9e/Z05c13VFEHm09Jyhap+26A93N/QRETl25hzNyNfDlvA1M27AsMT29TjwGdGnJShwxqh/BcO6Xtv1tGzWT7vjW886dsjmxeO2TbjgaR+v6rKip7//3eljBszEIyOxxZLeZJ0/vv0H0wfS2vfz2bPfkOMLbudbw+v5COHTr+PGFzqJXXMeEy4OLi4gbAObcMuBS4PIh19wEGmdkKYARwgpm9UYGsIoctIS6Gfu0a8NA5XfjhjpMY+cdjuLRXc+avz2XoqFn0fOArLvnPZF6ftIKNO/eGPM9X8zYycuoa/nR8KxU3EnEuOqopCXExvKoh41KGYWMWsie/8BfL9uQXMmzMwrBlKK8FJ945t+XAhc65zWZ20DYm59ztwO0AXgvOzc65Sw8zp0iliY0xjm5Rh6Nb1OHOMzowZ+1ORs9dz+dzNnDnh3O588O5HNEsnYGdGzKwUyOa1a3c6RK25u3jtvdm0aFRLa4/qW2lrlskHOqmJHJWt8a899Nahg5oT1qyOsfLL63L2XNIy0OhvAJn/2HeJxIxzIwuTdLo0iSNoQPas2RTbuAsynM38OBnC3jwswV0aFSLgd65dtpmpFToXDvOOf72wRx27ing9d91IyGu6o7uEinPFdlZvDNtDe9MXc3v+7b0O45UMRm1kthQSmt44/Tw9dsqr8DpZmY7S1luwCGdZtU5NxYYeyjPEfFD6wapXH1CKlef0IbV23YzZu4GxszdwFNfL+LJrxbRol7Nn08s2K1J2iEXOx/OWMfnczZw68D2dGikMydI5OqcmcbRWXV4bdJKruzTQkPG5Rea1P51gZMcH8vQAe3ClqG8yTarzlhaER80rVOD3/dtye/7tmRT7t7AuXbmbOA/45fx/HdLaZSW9POEoUdl1T7ouXbW79jDnR/O4cjmtbnqOH3jlch3RXYWf33zJ75dsImTOmrIuARMWb6NqStzOLlDA+atz2Vtzh4y05MZOqBd2DoYg2YFFwlKg9QkLunVnEt6NWfH7ny+XhAodt6asorhE1dQp2YCJ3vn2sluXZfEuMD3gw+mr2XYmIWszdlD4ldjKSpyPH5+N33blagQmPw2ieETV6jAEQAKCou468M5NE5L4umLe1AjIc63UWgqcEQOUVqNeM45ognnHNGE3fsL+G7hZkbP3cBns9fz9tTVpCTGcUL7BtSpGc+IH1ezN78IgH0FRcTHGjNW55BVr6bPr0Kk4uJjY7i0d3OGjVnI4o251WLIuJTvzSmrWLAhl+cuOYIaCf6WGCpwRCqgRkIcp3ZpxKldGrGvoJCJS7cyZs4Gvpi3kW27ft0XP7/QMWzMwrA204qE0sVHN+PprxczfOIKHji7i99xxEdb8/bx2JiFHNu6Hqd2buh3nHLPgyMihyAxLpb+7Rrw8LldmXLHiZR1ECqcwyRFQq1OzQQGdw8MGd+xO9/vOOKjYWMWsnt/IfcM6lih0aaVpcwCx8xyzWxnKZfcMkZXiYgnLjamzOGQ4RwmKRIOV2RnsSe/kJFTV/sdRXwyY3UOb09dzW+PbUHrBlXjUGWZBY5zLtU5V6uUS6pzTuNbRQ5i6IB2JB8wsWe4h0mKhEOnxmkc3aIOr05aQWFR6fMbSvQqKnLc/eEc6qckcs0Jrf2O87OgD1GZWQMza1Z8CWUokWgwuEcmD53ThUyvxSYzPZmHzumi/jcSla7MzmLN9j18PX+j31EkzN6ZtpqZa3Zwx2kdSE2qOme1PmgnYzMbBDwONAY2Ac2B+UCn0EYTiXyDe2QyuEemJuuTqHdyxwwae0PGT+nkfwdTCY8du/N5ZPRCjsqqzVndG/sd5xeCacG5H+gNLHLOtQBOBCaHNJWIiESUuNgYLjsmi4lLt7JwQ67fcSRMHv9yITm793PvoM5VomNxScEUOPnOua1AjJnFOOe+BXqGOJeIiESYi45qSmJcDMMnrvA7ioTB3HU7eGPySi7r3ZyOjate19xgCpwcM0sBxgH/NbOngV2hjSUiIpGmds0Ezu6RyfvT15CzW3MyRzPnHHd/OJf0GgnceHLVHDgRTIFzFrAbuAEYDSwFzgxlKBERiUxXZGexN7+It3/UkPFo9sGMtUxduZ1bB7YjrUbV6VhcUjAFzh+BRs65Aufcq865Z7xDViIiIr/QoVEtercMzDJeUFjkdxwJgdy9+Tz42QK6NUnj/COb+h2nTMEUOKnAF2Y23syuNjPNqCYiImUakt2CtTl7+Gr+Jr+jSAg88/VituTt476zOhNThScOPmiB45y71znXCfgr0Aj4zsy+CnkyERGJSCd1aEBmejLDJy73O4pUssUbc3llwgou7NmUbk3T/Y5TrkOZi2oTsAHYCjQITRwREYl0cbExXH5McyYv28b89ZrZJ1o457jn47nUSIiMM7IftMAxs7+Y2Vjga6Au8AfnXNdQBxMRkch14VFNSYqP4VUNGY8an8/ZwIQlWxk6oB11UxL9jnNQwbTgNAWud851cs7d45ybF+pQIiIS2dJrJHB2jya8P30t23dpyHik272/gL9/Mo+OjWrxm17N/Y4TlPJmEy8+a88wYJWZ1Sl5CU88ERGJVEOys9hXUMQIDRmPeM99u5R1O/Zy31mdiK3CHYtLKq8F503v5zRgqvdzWonbIiIiZWrXMJXsVnV5fdIKDRmPYCu27OLFccs4p0cmPbMip32jzALHOXeGBSaWON4519I516LEpWUYM4qISIQakp3Fuh17+XKeZhmPVPd9Mo+EuBhuO7W931EOSbl9cJxzDvg0TFlERCTKnNghgya1k3lFnY0j0lfzNvLNgk1cf1IbGtRK8jvOIQmmk/FPZnZUyJOIiEjUiY0xrjgmiynLtzF33Q6/48gh2JtfyL2fzKV1gxSuyM7yO84hC6bA6QVMMrOlZjbLzGab2axQBxMRkehwQc+mJMfHash4hHlx3DJWb9vDvYM6ER97KKfNqxriyrvT64NzFbAyPHFERCTapNWI55wjMnln2hpuO7UDdWom+B1JDmL1tt3889slnN6lEX1a1/M7zmEJpg/OP51zKw+8hCmfiIhEgSHZWewvKOKtKav8jiJBeODT+cSYccfpHfyOctjUB0dEREKuTUYqx7auxxuTV5KvIeNV2rhFmxk9dwNXn9CazPRkv+McNvXBERGRsBiSncX6HXv5Yq6GjFdV+wuKuOfjuWTVrcHv+7bwO06FlNsHxzMg5ClERCTq9W/fgGZ1ajB84nJO79rI7zhSilcmLGfZ5l28MuQoEuNi/Y5TIQdtwTmg380WoC/wXMiTiYhIVImNMS4/pjk/rtjOnLUaMl7VbNixl2e+XsxJHTLo376B33EqLJjZxBPM7GwzewdYD5wIPB/yZCIiEnXO79mUGgmxDNeQ8Srnoc/nk1/kuOuMjn5HqRTlTbZ5ipm9AiwHzgVeA7Y55650zn0croAiIhI90pLjOfeIJnw0Yx1b8vb5HUc8Pyzbyocz1vGn41vRrG4Nv+NUivJacEYDLYFjnXOXekWNur6LiEiFXJHdnP2FRYzQkPEqoaCwiLs/mktmejJ/Pr6V33EqTXkFzhHAJOArM/vSzH4HRHaPIxER8V3rBqn0bVOP1zVkvEp4Y/JKFmzI5c4zOpKcED0f8+XNJj7DOXebc64VcDfQHYg3s8/N7KpwBRQRkehzZZ8sNu7cx+g5G/yOUq1tzt3H418uom+begzolOF3nEoV1OQSzrmJzrlrgCbAk0DvkKYSEZGo1q9tA5rXraHOxj57dPQC9uYXcs+gTgRmZ4oehzR7lnOuyDn3hXPut6EKJCIi0S/Gm2V82srtzFqT43ecaumnVdt5Z9oafntsC1rVT/E7TqWLvOlBRUQkKpzXswk1NWTcF4VFjrs/nEtGrUSuOaGN33FCQgWOiIj4olZSPOcd2YRPZq5nc66GjIfT2z+uZvbaHdxxWgdSEoOZ1CDyBFXgmNmxZnald72+mUX2BBUiIlIlXJ6dxf5CzTIeTtt37efRMQs4ukUdBnVr7HeckAnmTMZ3A7cCt3uL4oE3QhlKRESqh1b1Uzi+bX3emLyS/QUaMh4Oj3+5kNy9BdwbhR2LSwqmBedsYBCwC8A5tw5IDWUoERGpPob0yWJT7j4+n7Pe7yhRb87aHfz3h1Vc1rs5HRrV8jtOSAVT4Ox3zjnAAZhZzdBGEhGR6uT4NvVpUa+mOhuHWFGR464P51C3ZgI3nNzW7zghF0yBM9LMXgDSzewPwFfAv0MbS0REqovAkPHmTF+Vw4zVOX7HiVrvT1/LT6tyuHVge9KS4/2OE3IHLXCcc48Bo4B3gXbAXc65Z0MdTEREqo9zj2xCSmIcr6oVJyR27s3noc8X0KNZOuce0cTvOGER7JmMv3TODXXO3eyc+zLUoUREpHpJLR4yPmsdm3L3+h0n6jz91WK27trHfYM6ExMTvR2LSwpmFFWume084LLazN43s5bhCCkiItHviuws8gsdb/2w2u8oUWXRxlyGT1zBxUc3o0uTNL/jhE0wLThPAUOBTAJzUd0MvAmMAF4OWTIREalWWtSrSf929XnjBw0ZryzOBToWpybFMfSUdn7HCatgCpxBzrkXnHO5zrmdzrkXgQHOubeB2iHOJyIi1cgV2Vls1pDxSvPJrPVMXraNm09pR+2aCX7HCatgCpzdZnaBmcV4lwuA4gOkLoTZRESkmjmuTX1a1qvJKxNW+B0l4u3aV8ADn86nU+NaXHx0M7/jhF0wBc4lwGXAJmCjd/1SM0sGrg5hNhERqWZiYowrsrOYsTqH6au2+x0nov3j2yVs2LmX+87qRGw16VhcUjDDxJc55850ztVzztX3ri9xzu1xzn0fjpAiIlJ9aMh4xS3bnMd/xi/j3COacGTzOn7H8UUwo6iSzOyvZvacmb1cfAlHOBERqX5SEuM4v2cTPp29nk07NWT8UDnnuOfjeSTFxXLrqdWrY3FJwRyieh1oCAwAviMwkio3lKFERKR6u+KYLAqKHP/9QbOMH6ov521k3KLNXH9yWxqkJvkdxzfBFDitnXN3Arucc68CpwO9DvYkr+VnipnNNLO5ZnZvRcOKiEj1kFWvJv3bNeC/P6xiX0Gh33Eixt78Qu77ZB5tM1K4/JjmfsfxVTAFTr73M8fMOgNpQIMgnrcPOME51w3oDgw0s96HlVJERKqdIdlZbMnbx2ezNWQ8WM9/t5Q12/dw76DOxMcGNVlB1Arm1b9oZrWBvwEfAfOARw72JBeQ592M9y4aVi4iIkHp26YereoHhow7p4+Pg1m9bTf/GruUM7s15phWdf2O4zsr701jZjHAec65kYe1crNYYBrQGvinc+7WUh5zFXAVQEZGxpEjRow4nE0FJS8vj5SUlJCtP5pp31WM9l/FaP9VTCTvv69X5fP6vP38rXcSrdNjfckQKfvvmZ/2MndrIQ/1TaZOUtVpvQn1/uvfv/8051zPA5eXW+AAmNnU0p54KMwsHXgfuMY5N6esx/Xs2dNNnTq1Ipsq19ixY+nXr1/I1h/NtO8qRvuvYrT/KiaS99+ufQX0fvBr+rdvwDMX9/AlQyTsv7ELNzHklR+5dWB7/tyvld9xfiHU+8/MSi1wginxvjKzm82sqZnVKb4cysadcznAt8DAQ3meiIhUbzUT47jgqKZ8Nns9GzVkvFT7Cgq59+N5tKxXk98em+V3nCojmALnQuCvwDgCh5umAQdtZjGz+l7LDd5Zj08GFhx2UhERqZYuP6Y5hc7x38kr/Y5SJb30/XKWb9nF3YM6kRjnz2G8qijuYA9wzrU4zHU3Al71+uHEACOdc58c5rpERKSaal63Jie2DwwZ/+sJrfUhXsL6HXt49uslnNIxg+Pb1vc7TpUSzJmMa5jZ38zsRe92GzM742DPc87Ncs71cM51dc51ds7dVxmBRUSk+hmS3YKtu/bzyUwNGS/pgU/nU+Qcd57R0e8oVU4wh6heAfYD2d7ttcDfQ5ZIRETkAH1a16V1gxSGT9SQ8WITl27hk1nr+XO/VjStU8PvOFVOMAVOK+fco3gn/HPO7Qaq37SkIiLiGzNjSHYWs9fu4CfNMk5+YRH3fDSXJrWT+dPxVWvUVFURTIGz3+sk7ADMrBWBsxSLiIiEzTlHZJKaFMcrE1b4HcV3r01ayaKNedx1RkeS4tUnqTTBFDj3AKOBpmb2X+Br4JZQhhIRETlQjYQ4LjqqKZ/P2cD6HXv8juObTbl7eerLRRzftj4nd8zwO06VddACxzn3BXAOMAR4C+jpnBsb2lgiIiK/dvkxWRQ5x38nV99Zxh/5fCF7Cwq5+8yOmKnHSFmCGUX1MXAKMNY594lzbkvoY4mIiPxa0zo1OKlDBm9OWcXe/Oo3y/i0ldt496c1/L5vS1rWr/rTR/gpmENUjwF9gXlmNsrMzjOzpBDnEhERKdWV2Vls27Wfj2eu8ztKWBUWOe76cC6N0pK4un9rv+NUecEcovrOOfcXoCXwAnABsCnUwUREREpzTKu6tM2ofkPG35qyirnrdvJ/p3egZuJBz9Nb7QU13ag3iupc4E/AUcCroQwlIiJSlsCQ8RbMXbeTqSurx5Dx7bv289gXCzmmZV1O79LI7zgRIZg+OCOB+cAJwD8InBfnmlAHExERKcvgHo1JS45neDUZMj7si4Xk7i3g3rM6qWNxkIJpwXmJQFHzJ+fct0C2mf0zxLlERETKVDxkfPTcDazLie4h47PW5PDWlFUMyc6ibUaq33EiRjB9cMYAXc3sUTNbAdyPZgUXERGfXdq7Oc453ojiWcaLvI7FdWsmct1JbfyOE1HKLHDMrK2Z3W1mC4BngdWAOef6O+eeDVtCERGRUjStU4OTO2bwVhQPGR/10xpmrM7h9lPbUysp3u84EaW8FpwFBPrdnOGcO9YraqLzHSQiIhFpSHYLtu/O56MZ0TdkfMeefB75fAFHNq/N2T0y/Y4TccorcM4B1gPfmtm/zexENMmmiIhUIb1b1qF9w1ReicIh409+uYhtu/dz76BOxMTo4/dQlVngOOc+cM5dBLQHvgWuBxqY2b/M7JQw5RMRESlT8Szj89fvZMrybX7HqTTz1+/ktUkruKRXMzpnpvkdJyIF08l4l3PuTefcmUATYDpwa8iTiYiIBOGs7pmk14hn+MQVfkepFM457v5oLmnJ8dx8Sju/40SsoE70V8w5t90596Jz7sRQBRIRETkUyQmxXHRUM8bM3cDaKBgy/tHMdUxZvo2hA9qTXiPB7zgR65AKHBERkarosmOaA/D6pMgeMp63r4AHP5tPl8w0Ljyqqd9xIpoKHBERiXiZ6ckM6NSQET+uYs/+yB3w++w3i9m4cx/3ntWJWHUsrhAVOCIiEhWGZGeRszufD2es9TvKYVmyKY+Xv1/O+Uc24Yhmtf2OE/FU4IiISFQ4ukUdOjSqFZGzjDvnuPfjuSTFx3Lrqe39jhMVVOCIiEhUMDOuzM5iwYZcJi+LrCHjY+ZuZPziLdx0clvqpST6HScqqMAREZGoMah7Y2rXiGf4xOV+Rwnanv2F3P/JPNo3TOXS3s39jhM1VOCIiEjUSIqP5eKjm/HlvI2s3rbb7zhB+dfYJazN2cO9gzoRF6uP5cqiPSkiIlHl0t7NMbOImGV85dZdPD9uGWd1b0yvlnX9jhNVVOCIiEhUaZyezMBODXlryip27y/wO0657v9kHvExxh2ndfA7StRRgSMiIlFnSJ8sdu4t4IPpVXeW8W8WbOSr+Zu49sQ2ZNRK8jtO1FGBIyIiUadn89p0alyL4ROXV8kh43vzC7n343m0rF+TK/u08DtOVFKBIyIiUad4lvFFG/OYtHSr33F+5aXvl7Ny627uObMTCXH6KA4F7VUREYlKZ3ZrTJ2aCbxSxWYZX5uzh2e/WczATg05rm19v+NELRU4IiISlZLiY/nN0c34an7VGjL+4KfzcQ7+doY6FoeSChwREYlal/ZuTowZr1eRIeMTlmzh09nr+Wv/1jSpXcPvOFFNBY6IiESthmlJnNq5ISOqwJDx/MIi7v5oLs3q1OCq41r6mqU6UIEjIiJRbUh2YMj4+9P9nWX81YkrWLIpj7vP7EhSfKyvWaoDFTgiIhLVjmxem86ZtRg+wb9Zxjft3MtTXy3mhPYNOLFDhi8ZqhsVOCIiEtUCQ8ZbsHhTHhN9GjL+0OcL2F9QxF1ndPRl+9WRChwREYl6Z3RtRN2aCbwyYUXYtz1l+Tben76Wq45rSVa9mmHffnWlAkdERKJeUnwsv+nVjK8XbGTV1vANGS8oLOKuD+fQOC2Jv/RvFbbtigocERGpJi7p1ZxYM16btCJs23xzyioWbMjlb2d0pEZCXNi2KypwRESkmmiYlsSpXRrx9tTV7NoX+iHjW/P28diYhfRpXZdTOzcM+fbkl1TgiIhItTEkO4vcvQW8F4Yh48PGLGT3/kLuObMTZhby7ckvqcAREZFq44hm6XRtksbwCaGdZXzG6hzenrqaK/tk0SYjNWTbkbKpwBERkWqjeJbxpZt38f2SLSHZRlGR4+4P51AvJZFrT2wTkm3IwanAERGRauX0ro2ol5LA8BANGX9n2mpmrtnBHae1JzUpPiTbkINTgSMiItVKYlwsv+nVnG8WbmLFll2Vuu4du/N5ZPRCjsqqzeDumZW6bjk0KnBERKTaubRXM2/IeOXOMv7ElwvJ2b2fewapY7HfVOCIiEi106BWEqd3bcQ7U1eTV0lDxuet28nrk1dyae/mdGqcVinrlMOnAkdERKqlIdlZ5O4r4L2f1lR4Xc457v5oDuk1Erjp5HaVkE4qSgWOiIhUSz2a1aZb03SGT1xBUVHFhox/MGMtP67Yzq0D25FWQx2LqwIVOCIiUm1dmZ3Fss27GF+BIeO5e/N58LMFdGuSxvlHNq3EdFIRKnBERKTaOq1LI+qnJjJ8wvLDXsczXy9mS94+7jurMzEx6lhcVajAERGRaishLoZLejXj24WbWX4YQ8YXb8zllQkruLBnU7o1Ta/8gHLYVOCIiEi19ptezYiPNV6duOKQnuec456P51IjIZahA9SxuKpRgSMiItVag9QkzujamFHT1pC7Nz/o530+ZwMTlmzl5gHtqJuSGMKEcjhCVuCYWVMz+9bM5pnZXDO7LlTbEhERqYgh2Vnk7Svg3WnBDRnfvb+Av38yjw6NavGbo5uFOJ0cjlC24BQANznnOgK9gb+aWccQbk9EROSwdGuaTo9m6bw6aWVQQ8af+3Yp63bs5b6zOhEXq4MhVVHIfivOufXOuZ+867nAfEATc4iISJU0JDuL5Vt28d3izeU+bsWWXbw4bhln98jkqKw6YUonh8qcq9jJjYLaiFkWMA7o7JzbecB9VwFXAWRkZBw5YsSIkOXIy8sjJSUlZOuPZtp3FaP9VzHafxWj/RecgiLHzd/toWlqDDf1TPp5+YH778lpe1m4rZCH+yaTnqTWm4MJ9fuvf//+05xzPQ9cHheyLXrMLAV4F7j+wOIGwDn3IvAiQM+ePV2/fv1ClmXs2LGEcv3RTPuuYrT/Kkb7r2K0/4L3W7eYJ75cRNNOPWlVP/ChXHL/fT1/IzM3T+X/TuvA4ONa+pg0cvj1/gtp6Wlm8QSKm/86594L5bZEREQq6uKjm5EQG8NrpQwZ35tfyL0fz6N1gxSG9MkKezY5NKEcRWXAS8B859wTodqOiIhIZamfmsgZ3Roxatoadh4wZPzf45axattu7h3UiXh1LK7yQvkb6gNcBpxgZjO8y2kh3J6IiEiFXZndgl37Cxk19X9Dxtds380/xy7h9C6N6NO6no/pJFgh64PjnPse0KQcIiISUbo0SePI5rV5ddIKhmRnAfD3T+ZjGHec3sHfcBI0tbGJiIgcYEh2Fiu37mbsok3M2VLA6LkbuPqE1mSmJ/sdTYIU8lFUIiIikWZg54bUSorlT2/8xP6CImJjjIxUTccQSdSCIyIicoBPZ61n9/4i9hcUAVBY5Ljzw7l8MH2tz8kkWCpwREREDjBszEIKDpiyYU9+IcPGLPQpkRwqFTgiIiIHWJez55CWS9WjAkdEROQAjcvoTFzWcql6VOCIiIgcYOiAdiTHx/5iWXJ8LEMHtPMpkRwqjaISERE5wOAemUCgL87anD1kpiczdEC7n5dL1acCR0REpBSDe2QyuEemJiuNUDpEJSIiIlFHBY6IiIhEHRU4IiIiEnVU4IiIiEjUUYEjIiIiUUcFjoiIiEQdFTgiIiISdVTgiIiISNQx59zBHxUmZrYZWBnCTdQDtoRw/dFM+65itP8qRvuvYrT/Kkb7r2JCvf+aO+fqH7iwShU4oWZmU51zPf3OEYm07ypG+69itP8qRvuvYrT/Ksav/adDVCIiIhJ1VOCIiIhI1KluBc6LfgeIYNp3FaP9VzHafxWj/Vcx2n8V48v+q1Z9cERERKR6qG4tOCIiIlINqMARERGRqBNVBY6Z/Z+ZzTWzWWY2w8x6+Z0pEpiZM7M3StyOM7PNZvaJn7kiiZnV9d5zM8xsg5mtLXE7we98VZWZPWlm15e4PcbM/lPi9uNmdmMQ68kyszkhillllfO+yzGzeX7ni0RmVlhin84ws6xSHvOZmaWHP13VdSifv2Y2xMwahzpTXKg3EC5mdgxwBnCEc26fmdUD9MESnF1AZzNLds7tAU4G1vqcKaI457YC3QHM7B4gzzn3mJ+ZIsQE4ALgKTOLIXBCsFol7s8GbvAjWCQo633nfSjrC8rh2eOc617aHWZmBPqunhbeSFXbYXz+DgHmAOtCmSuaWnAaAVucc/sAnHNbnHPrzGyFt7Mxs55mNta7fo+ZvWxmY81smZld61/0KuEz4HTv+sXAW8V3mFkdM/vAq8wnm1lXb7n2YTnMbLiZnVfidl6J60PN7Edvn97rT8IqYSJwjHe9E4F/erlmVtvMEoEOgDOz78xsmtfC0wjAzI40s5lmNhP4qy/pq7ZYM/u39636CzNLBvD+Xnt61+uZ2QpfU1ZxXuvgQjN7jcD7s2nJzxUByv78vcv7PzfHzF60gPOAnsB/vZae5FCFiqYC5wsCb7xFZvacmR0fxHPaAwOAo4G7zSw+pAmrthHARWaWBHQFfihx373AdOdcV+AO4LUS92kfHiIzOwVoQ2CfdQeONLPjfA3lE+fcOqDAzJoRaK2ZROC9dwyBf4LzgSeB85xzRwIvAw94T38FuMY51y3swSNDG+CfzrlOQA5wrr9xIkZyicNT73vL2gDPOec6OedCOZ1QpCrr8/cfzrmjnHOdgWTgDOfcKGAqcIlzrrt31CAkouYQlXMuz8yOBPoC/YG3zey2gzztU6/i3Gdmm4AMYE2Io1ZJzrlZXrP2xQRac0o6Fu+fo3PuG++4f/FhBO3DQ3eKd5nu3U4h8A90nG+J/DWRQHGTDTwBZHrXdxA4VHoK8GXg6ACxwHqv/0O6c654n70OnBre2FXecufcDO/6NCDLvygR5ReHqLz/iyudc5N9S1TFlfP5m2tmtwA1gDrAXODjcOWKmgIHwDlXCIwFxprZbOAKoID/tVQlHfCUfSWuFxJl++MwfAQ8BvQD6gb5HO3Dsv383vP6lxQfkzbgIefcC34Fq2ImEChouhA4BLAauAnYSeDvOdM5d0zJJ6iDZ1AO/NssPhRQ3v9EKd0uvwNUdaV8/v6RwNGAns651V4fsbC+36LmEJWZtTOzNiUWdScwM/kK4EhvmZpoy/cycK9zbvYBy8cDlwCYWT8Cx1p3hjdaRFrB/957g4Diw3djgN+aWQqAmWWaWYPwx6syJhLooLjNOVfonNsGpBM4TPUWUN/rxIiZxZtZJ+dcDpBjZsd667gk/LEj1gr+9748r5zHiQSljM/fhd71Ld7/upLvtVwgNdS5ounbdgrwrPfNrgBYAlxFoJPiS2Z2P4HqUsrgnFsDPFPKXfcAL5vZLGA3gZYxObh/Ax96nWBH430LdM59YWYdgEneYZc84FJgk19BfTabwOipNw9YluKc2+R1SnzGzNII/M96ikBT95UE3peOQB8ACc5jwEgzuwr41O8wEhXK+vzNIdAquwH4scTjhwPPm9ke4JhQ9cPRVA0iIiISdaLmEJWIiIhIMRU4IiIiEnVU4IiIiEjUUYEjIiIiUUcFjoiIiEQdFTgiUnIG5bne/E43eScnDOU2h3nbG3bA8n5mll3i9i/m9DrEbVxnZk+VuP2CmX1V4vY1ZlbaqREOtt57zOzmw8kkIuERTefBEZHD9/Pp6b2TDr5JYFbvu0O4zauAOt4ZUEvqR+DcQBMrYRsT+OVJALsRmIQy1ttuNvBhJWxHRKoYteCIyC845zYRKD6u9mb/zTKz8Wb2k3fJBjCz18xscPHzzOy/ZnZWyXV5zx/mzSY828wu9JZ/RODkYNOKl3nLs4A/ATd4LUp9vbuOM7OJFpi1vuQM7QeblX0G0NbMkr0TBe7xlnXx7s8GJphZKzMbbYEZy8ebWXtv/fXN7F1vGz+aWZ8DN2BmfzCzzy2EsyKLyKFTC46I/IpzbpmZxQINCJxh+WTn3F7vdOxvEZjp+yXgBuADr3jI5tdnuT6HwGnbuxE4W/GPZjbOOTfIzPJKTmrobXeFmT0P5DnnHgMws98BjQhM+tqewJxpo+yXs7Ib8JGZHVdiAk6ccwVmNh04isBcTD8Ai4FsM9tM4GSnq83sa+BPzrnFZtYLeA44AXgaeNI5970FZjwfQ+Ds6HjZrgZOBgZ7k86KSBWhAkdEDiYe+IeZdScwaWNbAOfcd2b2nJnVJzDP27vOuYIDnnss8JZ3OGijmX1HoNj46BAzfOCcKwLmmVmGtyzYWdmLZytPBiYRKHDuADYDE715crKBd7ypMwASvZ8nAR1LLK9VPIcYcDmBiUEHO+fyD/H1iEiIqcARkV8xs5YEiplNBPrhbCTQChMD7C3x0NcIzKN1EYG5oUKlZOuIlfgZzKzsEwgc9koC/kmgsOno/ZxI4DXlHNia5IkBejvnSr5mvIJnNoHWqSbA8uBfioiEg/rgiMgveC0yzwP/cIHJ6tKA9V4LymVAbImHDweuB3DOzStldeOBC80s1lvvccCUg0QIdqbhYGdlnwT0Buo75zZ5r2kzcBYwwTm3E1huZud76zEz6+Y99wvgmuIVea1YxaYDfyRwaKxxEHlFJIxU4IgIQHLxMHHgKwIf7MWddp8DrvBmRW+PNys6gHNuIzAfeKWM9b4PzAJmAt8AtzjnNhwky8fA2Qd0Mv4V59wXBEZ7TTKz2cAoSimMnHPbCRQ0c0ssnkSgf9FM7/YlwO+81ziXQPEDcC3Q0+vEPI9AS1DJdX8P3Ax8amb1DvK6RCSMNJu4iBw2M6tB4FDNEc65HX7nEREpphYcETksZnYSgdabZ1XciEhVoxYcERERiTpqwREREZGoowJHREREoo4KHBEREYk6KnBEREQk6qjAERERkajz/wd7GNq25ddMAAAAAElFTkSuQmCC\n",
       "datasetInfos": [],
       "metadata": {},
       "removedWidgets": [],
       "type": "image"
      }
     },
     "output_type": "display_data"
    }
   ],
   "source": [
    "# Mapping day of the week numbers to names\n",
    "day_of_week_map = {\n",
    "    1: \"Sun\",\n",
    "    2: \"Mon\",\n",
    "    3: \"Tue\",\n",
    "    4: \"Wed\",\n",
    "    5: \"Thu\",\n",
    "    6: \"Fri\",\n",
    "    7: \"Sat\"\n",
    "}\n",
    "\n",
    "# Add a column with day names in the Pandas DataFrame\n",
    "delay_by_day_pd['DayName'] = delay_by_day_pd['DAY_OF_WEEK'].map(day_of_week_map)\n",
    "\n",
    "# Sort by day of the week to ensure correct order\n",
    "delay_by_day_pd = delay_by_day_pd.sort_values(by='DAY_OF_WEEK')\n",
    "\n",
    "# Plot\n",
    "plt.figure(figsize=(8, 5))\n",
    "plt.plot(delay_by_day_pd['DayName'], delay_by_day_pd['AvgArrivalDelay'], marker='o')\n",
    "plt.xlabel('Day of the Week')\n",
    "plt.ylabel('Average Arrival Delay (minutes)')\n",
    "plt.title('Average Arrival Delay by Day of the Week')\n",
    "plt.grid(True)\n",
    "plt.tight_layout()\n",
    "plt.show()\n"
   ]
  },
  {
   "cell_type": "markdown",
   "metadata": {
    "application/vnd.databricks.v1+cell": {
     "cellMetadata": {},
     "inputWidgets": {},
     "nuid": "eedfebb7-0e9e-4d54-9340-d08a38b550c0",
     "showTitle": false,
     "tableResultSettingsMap": {},
     "title": ""
    }
   },
   "source": [
    "  Which airlines had the highest average delays?\n",
    "  Answer:\n",
    "  From Average ArrivalDelay by Time plot, it appears that the airline with the highest average delay is NK, followed by F9 and B6. These three airlines have significantly higher average delays compared to others.NK has the highest average delay, with more than 15 minutes. F9 and B6 follows with an average delay of approximately 13 and 7 minutes respectively. On the other hand, airlines like AS and  HA shows very few time delay and AS show negative values, indicating these airlines are generally early or on time.\n",
    "\n",
    "  What patterns did you observe in delays by day of the week?\n",
    "  Answer:\n",
    "  From the provided line chart, delays vary across the days of the week. The average delay is highest at the start of the week (Monday) and gradually decreases toward the mid-week. There is a slight increase mid-week (Wednesday or Thursday) before dropping significantly toward the end of the week (Saturday). The lowest average delay appears to occur on Saturday, with a sharp increase again on Sunday. This pattern suggests higher delays during busy travel periods like the start and end of the week, likely reflecting higher passenger volumes and operational congestion on those days. Mid-week and weekends tend to experience fewer delays, potentially due to lighter air traffic.\n",
    "\n"
   ]
  },
  {
   "cell_type": "markdown",
   "metadata": {
    "application/vnd.databricks.v1+cell": {
     "cellMetadata": {},
     "inputWidgets": {},
     "nuid": "8bf680dd-d3f4-4a85-804e-24c1763d11d0",
     "showTitle": false,
     "tableResultSettingsMap": {},
     "title": ""
    }
   },
   "source": [
    "Summary:\n",
    "The analysis revealed key insights into flight delays and cancellations. Airlines with the highest average delays were identified, highlighting potential operational inefficiencies or route-specific challenges. Delays varied by day of the week, with the highest delays observed on Mondays and Sundays, likely due to higher travel volumes, and the lowest delays on Saturdays, indicating smoother operations on weekends. Specific delay causes such as weather and airline issues were flagged, providing actionable insights into factors contributing to disruptions. The exploration of cancellation reasons showed weather as the most frequent cause, followed by operational issues. Overall, these findings provide a clearer understanding of delay and cancellation patterns, offering opportunities for airlines to improve scheduling and customer experience."
   ]
  },
  {
   "cell_type": "markdown",
   "metadata": {
    "application/vnd.databricks.v1+cell": {
     "cellMetadata": {},
     "inputWidgets": {},
     "nuid": "a84a4cf4-1b74-459c-b9c9-b6be8abd4edb",
     "showTitle": false,
     "tableResultSettingsMap": {},
     "title": ""
    }
   },
   "source": []
  }
 ],
 "metadata": {
  "application/vnd.databricks.v1+notebook": {
   "dashboards": [],
   "environmentMetadata": null,
   "language": "python",
   "notebookMetadata": {
    "pythonIndentUnit": 4
   },
   "notebookName": "Untitled Notebook 2024-11-23 21:31:46",
   "widgets": {}
  }
 },
 "nbformat": 4,
 "nbformat_minor": 0
}
